{
  "cells": [
    {
      "cell_type": "markdown",
      "metadata": {
        "id": "view-in-github",
        "colab_type": "text"
      },
      "source": [
        "<a href=\"https://colab.research.google.com/github/aquinojoeanson/Capstone_Project_3/blob/main/FirstColab_NLP_Amazon.ipynb\" target=\"_parent\"><img src=\"https://colab.research.google.com/assets/colab-badge.svg\" alt=\"Open In Colab\"/></a>"
      ]
    },
    {
      "cell_type": "markdown",
      "metadata": {
        "id": "uLk5khSNW2_s"
      },
      "source": [
        "# Data Wrangling"
      ]
    },
    {
      "cell_type": "code",
      "execution_count": 5,
      "metadata": {
        "colab": {
          "base_uri": "https://localhost:8080/"
        },
        "id": "rMI8RH64ws7i",
        "outputId": "8b56f6a4-2f42-45d0-f1d1-47dc68c82053"
      },
      "outputs": [
        {
          "output_type": "stream",
          "name": "stdout",
          "text": [
            "Mounted at /content/gdrive/\n"
          ]
        }
      ],
      "source": [
        "from google.colab import drive\n",
        "drive.mount('/content/gdrive/', force_remount=True)"
      ]
    },
    {
      "cell_type": "code",
      "execution_count": 6,
      "metadata": {
        "id": "02e180b4"
      },
      "outputs": [],
      "source": [
        "import warnings\n",
        "\n",
        "warnings.simplefilter(\"ignore\", UserWarning)\n",
        "warnings.simplefilter(\"ignore\", FutureWarning)\n",
        "warnings.simplefilter(\"ignore\", DeprecationWarning)"
      ]
    },
    {
      "cell_type": "code",
      "execution_count": 7,
      "metadata": {
        "colab": {
          "base_uri": "https://localhost:8080/",
          "height": 581
        },
        "id": "ytSGeDDiXxCN",
        "outputId": "f4c1b45d-afa2-43e8-c31e-a117247d83a1"
      },
      "outputs": [
        {
          "output_type": "display_data",
          "data": {
            "text/plain": [
              "       reviewerID        asin                           reviewerName  \\\n",
              "0   AO94DHGC771SJ  0528881469                                amazdnu   \n",
              "1   AMO214LNFCEI4  0528881469                        Amazon Customer   \n",
              "2  A3N7T0DY83Y4IG  0528881469                          C. A. Freeman   \n",
              "3  A1H8PY3QHMQQA0  0528881469               Dave M. Shaw \"mack dave\"   \n",
              "4  A24EV6RXELQZ63  0528881469                            Wayne Smith   \n",
              "5  A2JXAZZI9PHK9Z  0594451647          Billy G. Noland \"Bill Noland\"   \n",
              "6  A2P5U7BDKKT7FW  0594451647                              Christian   \n",
              "7   AAZ084UMH8VZ2  0594451647  D. L. Brown \"A Knower Of Good Things\"   \n",
              "8   AEZ3CR6BKIROJ  0594451647                           Mark Dietter   \n",
              "9  A3BY5KCNQZXV5U  0594451647                                Matenai   \n",
              "\n",
              "    helpful                                         reviewText  overall  \\\n",
              "0    [0, 0]  We got this GPS for my husband who is an (OTR)...        5   \n",
              "1  [12, 15]  I'm a professional OTR truck driver, and I bou...        1   \n",
              "2  [43, 45]  Well, what can I say.  I've had this unit in m...        3   \n",
              "3   [9, 10]  Not going to write a long review, even thought...        2   \n",
              "4    [0, 0]  I've had mine for a year and here's what we go...        1   \n",
              "5    [3, 3]  I am using this with a Nook HD+. It works as d...        5   \n",
              "6    [0, 0]  The cable is very wobbly and sometimes disconn...        2   \n",
              "7    [0, 0]  This adaptor is real easy to setup and use rig...        5   \n",
              "8    [0, 0]  This adapter easily connects my Nook HD 7&#34;...        4   \n",
              "9    [3, 3]  This product really works great but I found th...        5   \n",
              "\n",
              "                                    summary  unixReviewTime   reviewTime  \n",
              "0                           Gotta have GPS!      1370131200   06 2, 2013  \n",
              "1                         Very Disappointed      1290643200  11 25, 2010  \n",
              "2                            1st impression      1283990400   09 9, 2010  \n",
              "3                   Great grafics, POOR GPS      1290556800  11 24, 2010  \n",
              "4    Major issues, only excuses for support      1317254400  09 29, 2011  \n",
              "5                   HDMI Nook adapter cable      1388707200   01 3, 2014  \n",
              "6                    Cheap proprietary scam      1398556800  04 27, 2014  \n",
              "7               A Perfdect Nook HD+ hook up      1399161600   05 4, 2014  \n",
              "8             A nice easy to use accessory.      1405036800  07 11, 2014  \n",
              "9  This works great but read the details...      1390176000  01 20, 2014  "
            ],
            "text/html": [
              "\n",
              "  <div id=\"df-de86b600-fc11-40d0-9ac5-09bb6d7d3097\">\n",
              "    <div class=\"colab-df-container\">\n",
              "      <div>\n",
              "<style scoped>\n",
              "    .dataframe tbody tr th:only-of-type {\n",
              "        vertical-align: middle;\n",
              "    }\n",
              "\n",
              "    .dataframe tbody tr th {\n",
              "        vertical-align: top;\n",
              "    }\n",
              "\n",
              "    .dataframe thead th {\n",
              "        text-align: right;\n",
              "    }\n",
              "</style>\n",
              "<table border=\"1\" class=\"dataframe\">\n",
              "  <thead>\n",
              "    <tr style=\"text-align: right;\">\n",
              "      <th></th>\n",
              "      <th>reviewerID</th>\n",
              "      <th>asin</th>\n",
              "      <th>reviewerName</th>\n",
              "      <th>helpful</th>\n",
              "      <th>reviewText</th>\n",
              "      <th>overall</th>\n",
              "      <th>summary</th>\n",
              "      <th>unixReviewTime</th>\n",
              "      <th>reviewTime</th>\n",
              "    </tr>\n",
              "  </thead>\n",
              "  <tbody>\n",
              "    <tr>\n",
              "      <th>0</th>\n",
              "      <td>AO94DHGC771SJ</td>\n",
              "      <td>0528881469</td>\n",
              "      <td>amazdnu</td>\n",
              "      <td>[0, 0]</td>\n",
              "      <td>We got this GPS for my husband who is an (OTR)...</td>\n",
              "      <td>5</td>\n",
              "      <td>Gotta have GPS!</td>\n",
              "      <td>1370131200</td>\n",
              "      <td>06 2, 2013</td>\n",
              "    </tr>\n",
              "    <tr>\n",
              "      <th>1</th>\n",
              "      <td>AMO214LNFCEI4</td>\n",
              "      <td>0528881469</td>\n",
              "      <td>Amazon Customer</td>\n",
              "      <td>[12, 15]</td>\n",
              "      <td>I'm a professional OTR truck driver, and I bou...</td>\n",
              "      <td>1</td>\n",
              "      <td>Very Disappointed</td>\n",
              "      <td>1290643200</td>\n",
              "      <td>11 25, 2010</td>\n",
              "    </tr>\n",
              "    <tr>\n",
              "      <th>2</th>\n",
              "      <td>A3N7T0DY83Y4IG</td>\n",
              "      <td>0528881469</td>\n",
              "      <td>C. A. Freeman</td>\n",
              "      <td>[43, 45]</td>\n",
              "      <td>Well, what can I say.  I've had this unit in m...</td>\n",
              "      <td>3</td>\n",
              "      <td>1st impression</td>\n",
              "      <td>1283990400</td>\n",
              "      <td>09 9, 2010</td>\n",
              "    </tr>\n",
              "    <tr>\n",
              "      <th>3</th>\n",
              "      <td>A1H8PY3QHMQQA0</td>\n",
              "      <td>0528881469</td>\n",
              "      <td>Dave M. Shaw \"mack dave\"</td>\n",
              "      <td>[9, 10]</td>\n",
              "      <td>Not going to write a long review, even thought...</td>\n",
              "      <td>2</td>\n",
              "      <td>Great grafics, POOR GPS</td>\n",
              "      <td>1290556800</td>\n",
              "      <td>11 24, 2010</td>\n",
              "    </tr>\n",
              "    <tr>\n",
              "      <th>4</th>\n",
              "      <td>A24EV6RXELQZ63</td>\n",
              "      <td>0528881469</td>\n",
              "      <td>Wayne Smith</td>\n",
              "      <td>[0, 0]</td>\n",
              "      <td>I've had mine for a year and here's what we go...</td>\n",
              "      <td>1</td>\n",
              "      <td>Major issues, only excuses for support</td>\n",
              "      <td>1317254400</td>\n",
              "      <td>09 29, 2011</td>\n",
              "    </tr>\n",
              "    <tr>\n",
              "      <th>5</th>\n",
              "      <td>A2JXAZZI9PHK9Z</td>\n",
              "      <td>0594451647</td>\n",
              "      <td>Billy G. Noland \"Bill Noland\"</td>\n",
              "      <td>[3, 3]</td>\n",
              "      <td>I am using this with a Nook HD+. It works as d...</td>\n",
              "      <td>5</td>\n",
              "      <td>HDMI Nook adapter cable</td>\n",
              "      <td>1388707200</td>\n",
              "      <td>01 3, 2014</td>\n",
              "    </tr>\n",
              "    <tr>\n",
              "      <th>6</th>\n",
              "      <td>A2P5U7BDKKT7FW</td>\n",
              "      <td>0594451647</td>\n",
              "      <td>Christian</td>\n",
              "      <td>[0, 0]</td>\n",
              "      <td>The cable is very wobbly and sometimes disconn...</td>\n",
              "      <td>2</td>\n",
              "      <td>Cheap proprietary scam</td>\n",
              "      <td>1398556800</td>\n",
              "      <td>04 27, 2014</td>\n",
              "    </tr>\n",
              "    <tr>\n",
              "      <th>7</th>\n",
              "      <td>AAZ084UMH8VZ2</td>\n",
              "      <td>0594451647</td>\n",
              "      <td>D. L. Brown \"A Knower Of Good Things\"</td>\n",
              "      <td>[0, 0]</td>\n",
              "      <td>This adaptor is real easy to setup and use rig...</td>\n",
              "      <td>5</td>\n",
              "      <td>A Perfdect Nook HD+ hook up</td>\n",
              "      <td>1399161600</td>\n",
              "      <td>05 4, 2014</td>\n",
              "    </tr>\n",
              "    <tr>\n",
              "      <th>8</th>\n",
              "      <td>AEZ3CR6BKIROJ</td>\n",
              "      <td>0594451647</td>\n",
              "      <td>Mark Dietter</td>\n",
              "      <td>[0, 0]</td>\n",
              "      <td>This adapter easily connects my Nook HD 7&amp;#34;...</td>\n",
              "      <td>4</td>\n",
              "      <td>A nice easy to use accessory.</td>\n",
              "      <td>1405036800</td>\n",
              "      <td>07 11, 2014</td>\n",
              "    </tr>\n",
              "    <tr>\n",
              "      <th>9</th>\n",
              "      <td>A3BY5KCNQZXV5U</td>\n",
              "      <td>0594451647</td>\n",
              "      <td>Matenai</td>\n",
              "      <td>[3, 3]</td>\n",
              "      <td>This product really works great but I found th...</td>\n",
              "      <td>5</td>\n",
              "      <td>This works great but read the details...</td>\n",
              "      <td>1390176000</td>\n",
              "      <td>01 20, 2014</td>\n",
              "    </tr>\n",
              "  </tbody>\n",
              "</table>\n",
              "</div>\n",
              "      <button class=\"colab-df-convert\" onclick=\"convertToInteractive('df-de86b600-fc11-40d0-9ac5-09bb6d7d3097')\"\n",
              "              title=\"Convert this dataframe to an interactive table.\"\n",
              "              style=\"display:none;\">\n",
              "        \n",
              "  <svg xmlns=\"http://www.w3.org/2000/svg\" height=\"24px\"viewBox=\"0 0 24 24\"\n",
              "       width=\"24px\">\n",
              "    <path d=\"M0 0h24v24H0V0z\" fill=\"none\"/>\n",
              "    <path d=\"M18.56 5.44l.94 2.06.94-2.06 2.06-.94-2.06-.94-.94-2.06-.94 2.06-2.06.94zm-11 1L8.5 8.5l.94-2.06 2.06-.94-2.06-.94L8.5 2.5l-.94 2.06-2.06.94zm10 10l.94 2.06.94-2.06 2.06-.94-2.06-.94-.94-2.06-.94 2.06-2.06.94z\"/><path d=\"M17.41 7.96l-1.37-1.37c-.4-.4-.92-.59-1.43-.59-.52 0-1.04.2-1.43.59L10.3 9.45l-7.72 7.72c-.78.78-.78 2.05 0 2.83L4 21.41c.39.39.9.59 1.41.59.51 0 1.02-.2 1.41-.59l7.78-7.78 2.81-2.81c.8-.78.8-2.07 0-2.86zM5.41 20L4 18.59l7.72-7.72 1.47 1.35L5.41 20z\"/>\n",
              "  </svg>\n",
              "      </button>\n",
              "      \n",
              "  <style>\n",
              "    .colab-df-container {\n",
              "      display:flex;\n",
              "      flex-wrap:wrap;\n",
              "      gap: 12px;\n",
              "    }\n",
              "\n",
              "    .colab-df-convert {\n",
              "      background-color: #E8F0FE;\n",
              "      border: none;\n",
              "      border-radius: 50%;\n",
              "      cursor: pointer;\n",
              "      display: none;\n",
              "      fill: #1967D2;\n",
              "      height: 32px;\n",
              "      padding: 0 0 0 0;\n",
              "      width: 32px;\n",
              "    }\n",
              "\n",
              "    .colab-df-convert:hover {\n",
              "      background-color: #E2EBFA;\n",
              "      box-shadow: 0px 1px 2px rgba(60, 64, 67, 0.3), 0px 1px 3px 1px rgba(60, 64, 67, 0.15);\n",
              "      fill: #174EA6;\n",
              "    }\n",
              "\n",
              "    [theme=dark] .colab-df-convert {\n",
              "      background-color: #3B4455;\n",
              "      fill: #D2E3FC;\n",
              "    }\n",
              "\n",
              "    [theme=dark] .colab-df-convert:hover {\n",
              "      background-color: #434B5C;\n",
              "      box-shadow: 0px 1px 3px 1px rgba(0, 0, 0, 0.15);\n",
              "      filter: drop-shadow(0px 1px 2px rgba(0, 0, 0, 0.3));\n",
              "      fill: #FFFFFF;\n",
              "    }\n",
              "  </style>\n",
              "\n",
              "      <script>\n",
              "        const buttonEl =\n",
              "          document.querySelector('#df-de86b600-fc11-40d0-9ac5-09bb6d7d3097 button.colab-df-convert');\n",
              "        buttonEl.style.display =\n",
              "          google.colab.kernel.accessAllowed ? 'block' : 'none';\n",
              "\n",
              "        async function convertToInteractive(key) {\n",
              "          const element = document.querySelector('#df-de86b600-fc11-40d0-9ac5-09bb6d7d3097');\n",
              "          const dataTable =\n",
              "            await google.colab.kernel.invokeFunction('convertToInteractive',\n",
              "                                                     [key], {});\n",
              "          if (!dataTable) return;\n",
              "\n",
              "          const docLinkHtml = 'Like what you see? Visit the ' +\n",
              "            '<a target=\"_blank\" href=https://colab.research.google.com/notebooks/data_table.ipynb>data table notebook</a>'\n",
              "            + ' to learn more about interactive tables.';\n",
              "          element.innerHTML = '';\n",
              "          dataTable['output_type'] = 'display_data';\n",
              "          await google.colab.output.renderOutput(dataTable, element);\n",
              "          const docLink = document.createElement('div');\n",
              "          docLink.innerHTML = docLinkHtml;\n",
              "          element.appendChild(docLink);\n",
              "        }\n",
              "      </script>\n",
              "    </div>\n",
              "  </div>\n",
              "  "
            ]
          },
          "metadata": {}
        }
      ],
      "source": [
        "import os\n",
        "import pandas as pd\n",
        "\n",
        "dataset = \"Electronics_5.json\"\n",
        "\n",
        "if os.path.isfile(dataset):\n",
        "    df = pd.read_json(\"Electronics_5.json\", lines=True)\n",
        "else:\n",
        "    url = r\"http://snap.stanford.edu/data/amazon/productGraph/categoryFiles/reviews_Electronics_5.json.gz\"\n",
        "    df = pd.read_json(url, compression='gzip', lines=True)\n",
        "\n",
        "display(df.head(10))"
      ]
    },
    {
      "cell_type": "code",
      "execution_count": 8,
      "metadata": {
        "colab": {
          "base_uri": "https://localhost:8080/"
        },
        "id": "7AFD8vg5Z-3O",
        "outputId": "ac5da3a4-a82b-48cd-8eba-7d0894b421b5"
      },
      "outputs": [
        {
          "output_type": "stream",
          "name": "stdout",
          "text": [
            "<class 'pandas.core.frame.DataFrame'>\n",
            "RangeIndex: 1689188 entries, 0 to 1689187\n",
            "Data columns (total 9 columns):\n",
            " #   Column          Non-Null Count    Dtype \n",
            "---  ------          --------------    ----- \n",
            " 0   reviewerID      1689188 non-null  object\n",
            " 1   asin            1689188 non-null  object\n",
            " 2   reviewerName    1664458 non-null  object\n",
            " 3   helpful         1689188 non-null  object\n",
            " 4   reviewText      1689188 non-null  object\n",
            " 5   overall         1689188 non-null  int64 \n",
            " 6   summary         1689188 non-null  object\n",
            " 7   unixReviewTime  1689188 non-null  int64 \n",
            " 8   reviewTime      1689188 non-null  object\n",
            "dtypes: int64(2), object(7)\n",
            "memory usage: 116.0+ MB\n",
            "None\n"
          ]
        }
      ],
      "source": [
        "print(df.info())"
      ]
    },
    {
      "cell_type": "code",
      "execution_count": 9,
      "metadata": {
        "id": "5HvcCzaQaEmh"
      },
      "outputs": [],
      "source": [
        "from datetime import datetime\n",
        "\n",
        "condition = lambda row: datetime.fromtimestamp(row).strftime(\"%m-%d-%Y\")\n",
        "df[\"unixReviewTime\"] = df[\"unixReviewTime\"].apply(condition)"
      ]
    },
    {
      "cell_type": "code",
      "execution_count": 10,
      "metadata": {
        "colab": {
          "base_uri": "https://localhost:8080/",
          "height": 302
        },
        "id": "3lPb2TVkaHrU",
        "outputId": "852febbe-943a-4195-9895-85ded5e10a8f"
      },
      "outputs": [
        {
          "output_type": "display_data",
          "data": {
            "text/plain": [
              "       reviewerID        asin              reviewerName   helpful  \\\n",
              "0   AO94DHGC771SJ  0528881469                   amazdnu    [0, 0]   \n",
              "1   AMO214LNFCEI4  0528881469           Amazon Customer  [12, 15]   \n",
              "2  A3N7T0DY83Y4IG  0528881469             C. A. Freeman  [43, 45]   \n",
              "3  A1H8PY3QHMQQA0  0528881469  Dave M. Shaw \"mack dave\"   [9, 10]   \n",
              "4  A24EV6RXELQZ63  0528881469               Wayne Smith    [0, 0]   \n",
              "\n",
              "                                          reviewText  overall  \\\n",
              "0  We got this GPS for my husband who is an (OTR)...        5   \n",
              "1  I'm a professional OTR truck driver, and I bou...        1   \n",
              "2  Well, what can I say.  I've had this unit in m...        3   \n",
              "3  Not going to write a long review, even thought...        2   \n",
              "4  I've had mine for a year and here's what we go...        1   \n",
              "\n",
              "                                  summary unixReviewTime  \n",
              "0                         Gotta have GPS!     06-02-2013  \n",
              "1                       Very Disappointed     11-25-2010  \n",
              "2                          1st impression     09-09-2010  \n",
              "3                 Great grafics, POOR GPS     11-24-2010  \n",
              "4  Major issues, only excuses for support     09-29-2011  "
            ],
            "text/html": [
              "\n",
              "  <div id=\"df-f5098bf1-87c7-420a-a773-05cdd8b7993b\">\n",
              "    <div class=\"colab-df-container\">\n",
              "      <div>\n",
              "<style scoped>\n",
              "    .dataframe tbody tr th:only-of-type {\n",
              "        vertical-align: middle;\n",
              "    }\n",
              "\n",
              "    .dataframe tbody tr th {\n",
              "        vertical-align: top;\n",
              "    }\n",
              "\n",
              "    .dataframe thead th {\n",
              "        text-align: right;\n",
              "    }\n",
              "</style>\n",
              "<table border=\"1\" class=\"dataframe\">\n",
              "  <thead>\n",
              "    <tr style=\"text-align: right;\">\n",
              "      <th></th>\n",
              "      <th>reviewerID</th>\n",
              "      <th>asin</th>\n",
              "      <th>reviewerName</th>\n",
              "      <th>helpful</th>\n",
              "      <th>reviewText</th>\n",
              "      <th>overall</th>\n",
              "      <th>summary</th>\n",
              "      <th>unixReviewTime</th>\n",
              "    </tr>\n",
              "  </thead>\n",
              "  <tbody>\n",
              "    <tr>\n",
              "      <th>0</th>\n",
              "      <td>AO94DHGC771SJ</td>\n",
              "      <td>0528881469</td>\n",
              "      <td>amazdnu</td>\n",
              "      <td>[0, 0]</td>\n",
              "      <td>We got this GPS for my husband who is an (OTR)...</td>\n",
              "      <td>5</td>\n",
              "      <td>Gotta have GPS!</td>\n",
              "      <td>06-02-2013</td>\n",
              "    </tr>\n",
              "    <tr>\n",
              "      <th>1</th>\n",
              "      <td>AMO214LNFCEI4</td>\n",
              "      <td>0528881469</td>\n",
              "      <td>Amazon Customer</td>\n",
              "      <td>[12, 15]</td>\n",
              "      <td>I'm a professional OTR truck driver, and I bou...</td>\n",
              "      <td>1</td>\n",
              "      <td>Very Disappointed</td>\n",
              "      <td>11-25-2010</td>\n",
              "    </tr>\n",
              "    <tr>\n",
              "      <th>2</th>\n",
              "      <td>A3N7T0DY83Y4IG</td>\n",
              "      <td>0528881469</td>\n",
              "      <td>C. A. Freeman</td>\n",
              "      <td>[43, 45]</td>\n",
              "      <td>Well, what can I say.  I've had this unit in m...</td>\n",
              "      <td>3</td>\n",
              "      <td>1st impression</td>\n",
              "      <td>09-09-2010</td>\n",
              "    </tr>\n",
              "    <tr>\n",
              "      <th>3</th>\n",
              "      <td>A1H8PY3QHMQQA0</td>\n",
              "      <td>0528881469</td>\n",
              "      <td>Dave M. Shaw \"mack dave\"</td>\n",
              "      <td>[9, 10]</td>\n",
              "      <td>Not going to write a long review, even thought...</td>\n",
              "      <td>2</td>\n",
              "      <td>Great grafics, POOR GPS</td>\n",
              "      <td>11-24-2010</td>\n",
              "    </tr>\n",
              "    <tr>\n",
              "      <th>4</th>\n",
              "      <td>A24EV6RXELQZ63</td>\n",
              "      <td>0528881469</td>\n",
              "      <td>Wayne Smith</td>\n",
              "      <td>[0, 0]</td>\n",
              "      <td>I've had mine for a year and here's what we go...</td>\n",
              "      <td>1</td>\n",
              "      <td>Major issues, only excuses for support</td>\n",
              "      <td>09-29-2011</td>\n",
              "    </tr>\n",
              "  </tbody>\n",
              "</table>\n",
              "</div>\n",
              "      <button class=\"colab-df-convert\" onclick=\"convertToInteractive('df-f5098bf1-87c7-420a-a773-05cdd8b7993b')\"\n",
              "              title=\"Convert this dataframe to an interactive table.\"\n",
              "              style=\"display:none;\">\n",
              "        \n",
              "  <svg xmlns=\"http://www.w3.org/2000/svg\" height=\"24px\"viewBox=\"0 0 24 24\"\n",
              "       width=\"24px\">\n",
              "    <path d=\"M0 0h24v24H0V0z\" fill=\"none\"/>\n",
              "    <path d=\"M18.56 5.44l.94 2.06.94-2.06 2.06-.94-2.06-.94-.94-2.06-.94 2.06-2.06.94zm-11 1L8.5 8.5l.94-2.06 2.06-.94-2.06-.94L8.5 2.5l-.94 2.06-2.06.94zm10 10l.94 2.06.94-2.06 2.06-.94-2.06-.94-.94-2.06-.94 2.06-2.06.94z\"/><path d=\"M17.41 7.96l-1.37-1.37c-.4-.4-.92-.59-1.43-.59-.52 0-1.04.2-1.43.59L10.3 9.45l-7.72 7.72c-.78.78-.78 2.05 0 2.83L4 21.41c.39.39.9.59 1.41.59.51 0 1.02-.2 1.41-.59l7.78-7.78 2.81-2.81c.8-.78.8-2.07 0-2.86zM5.41 20L4 18.59l7.72-7.72 1.47 1.35L5.41 20z\"/>\n",
              "  </svg>\n",
              "      </button>\n",
              "      \n",
              "  <style>\n",
              "    .colab-df-container {\n",
              "      display:flex;\n",
              "      flex-wrap:wrap;\n",
              "      gap: 12px;\n",
              "    }\n",
              "\n",
              "    .colab-df-convert {\n",
              "      background-color: #E8F0FE;\n",
              "      border: none;\n",
              "      border-radius: 50%;\n",
              "      cursor: pointer;\n",
              "      display: none;\n",
              "      fill: #1967D2;\n",
              "      height: 32px;\n",
              "      padding: 0 0 0 0;\n",
              "      width: 32px;\n",
              "    }\n",
              "\n",
              "    .colab-df-convert:hover {\n",
              "      background-color: #E2EBFA;\n",
              "      box-shadow: 0px 1px 2px rgba(60, 64, 67, 0.3), 0px 1px 3px 1px rgba(60, 64, 67, 0.15);\n",
              "      fill: #174EA6;\n",
              "    }\n",
              "\n",
              "    [theme=dark] .colab-df-convert {\n",
              "      background-color: #3B4455;\n",
              "      fill: #D2E3FC;\n",
              "    }\n",
              "\n",
              "    [theme=dark] .colab-df-convert:hover {\n",
              "      background-color: #434B5C;\n",
              "      box-shadow: 0px 1px 3px 1px rgba(0, 0, 0, 0.15);\n",
              "      filter: drop-shadow(0px 1px 2px rgba(0, 0, 0, 0.3));\n",
              "      fill: #FFFFFF;\n",
              "    }\n",
              "  </style>\n",
              "\n",
              "      <script>\n",
              "        const buttonEl =\n",
              "          document.querySelector('#df-f5098bf1-87c7-420a-a773-05cdd8b7993b button.colab-df-convert');\n",
              "        buttonEl.style.display =\n",
              "          google.colab.kernel.accessAllowed ? 'block' : 'none';\n",
              "\n",
              "        async function convertToInteractive(key) {\n",
              "          const element = document.querySelector('#df-f5098bf1-87c7-420a-a773-05cdd8b7993b');\n",
              "          const dataTable =\n",
              "            await google.colab.kernel.invokeFunction('convertToInteractive',\n",
              "                                                     [key], {});\n",
              "          if (!dataTable) return;\n",
              "\n",
              "          const docLinkHtml = 'Like what you see? Visit the ' +\n",
              "            '<a target=\"_blank\" href=https://colab.research.google.com/notebooks/data_table.ipynb>data table notebook</a>'\n",
              "            + ' to learn more about interactive tables.';\n",
              "          element.innerHTML = '';\n",
              "          dataTable['output_type'] = 'display_data';\n",
              "          await google.colab.output.renderOutput(dataTable, element);\n",
              "          const docLink = document.createElement('div');\n",
              "          docLink.innerHTML = docLinkHtml;\n",
              "          element.appendChild(docLink);\n",
              "        }\n",
              "      </script>\n",
              "    </div>\n",
              "  </div>\n",
              "  "
            ]
          },
          "metadata": {}
        }
      ],
      "source": [
        "df.drop(labels=\"reviewTime\", axis=1, inplace=True)\n",
        "\n",
        "display(df.head())"
      ]
    },
    {
      "cell_type": "code",
      "execution_count": 11,
      "metadata": {
        "colab": {
          "base_uri": "https://localhost:8080/"
        },
        "id": "MFiefvZnaODH",
        "outputId": "d4527f52-4761-4fc8-f5a4-4fc350bbfae9"
      },
      "outputs": [
        {
          "output_type": "stream",
          "name": "stdout",
          "text": [
            "We got this GPS for my husband who is an (OTR) over the road trucker.  Very Impressed with the shipping time, it arrived a few days earlier than expected...  within a week of use however it started freezing up... could of just been a glitch in that unit.  Worked great when it worked!  Will work great for the normal person as well but does have the \"trucker\" option. (the big truck routes - tells you when a scale is coming up ect...)  Love the bigger screen, the ease of use, the ease of putting addresses into memory.  Nothing really bad to say about the unit with the exception of it freezing which is probably one in a million and that's just my luck.  I contacted the seller and within minutes of my email I received a email back with instructions for an exchange! VERY impressed all the way around!\n"
          ]
        }
      ],
      "source": [
        "print(df[\"reviewText\"].iloc[0])"
      ]
    },
    {
      "cell_type": "code",
      "execution_count": 12,
      "metadata": {
        "colab": {
          "base_uri": "https://localhost:8080/"
        },
        "id": "WNq2Vz9RaQ3S",
        "outputId": "87519fcc-ae69-49e8-8b84-bf548b695ae4"
      },
      "outputs": [
        {
          "output_type": "stream",
          "name": "stdout",
          "text": [
            "[5 1 3 2 4]\n"
          ]
        }
      ],
      "source": [
        "print(df.overall.unique())"
      ]
    },
    {
      "cell_type": "markdown",
      "metadata": {
        "id": "e9mWIeBCaX19"
      },
      "source": [
        "# Pre-Processing"
      ]
    },
    {
      "cell_type": "code",
      "execution_count": 13,
      "metadata": {
        "colab": {
          "base_uri": "https://localhost:8080/"
        },
        "id": "PxU8lDe-adod",
        "outputId": "2cf7e138-e06b-4b8d-afd1-465e966cf7be"
      },
      "outputs": [
        {
          "output_type": "stream",
          "name": "stdout",
          "text": [
            "I&#8217;m a big fan of the Brainwavz S1 (actually all of their headphones &#8211; have yet to be disappointed with any of their products). The S1 has been my main set for active use (e.g., workouts, runs, etc.) since the flat cable is very durable and resistant to tangles. The S5 keeps all the good features of the S1 and adds to it &#8211; the sound quality is richer and better defined.That&#8217;s not to say the S1 sounds poor &#8211; they are quite good, in fact. But the S5 are better. The highs are better defined and the midrange has more punch to it. The bass comes through clearly without moving into the harsh territory when the volume is pushed (as the S1s can do). The overall sound quality is very pleasing.The build quality seems solid &#8211; as solid as the S1 or better. I love the flat cable! I know that&#8217;s something that is not appreciated by everyone, but for me it&#8217;s been working out wonderfully. Although this (as most other Brainwavz headsets) comes with an excellent hard shell case, I usually tote my earbuds wrapped around my mp3 player in my pocket. Easy to carry; very stressful on the cables and can lead to tangles with round wires. Flat wires, especially those with a thick jacket such as these, survive that abuse with zero problems.The earbuds themselves are more sleekly shaped than the &#8220;can&#8221; style of the S1.Comfort is in line with the customary Brainwavz style, which is to say it&#8217;s outstanding. It comes with a wide range of tips to fit pretty much any ear, plus the Comply foam tips (which are my favorite). If fitted properly you end up with zero ear irritation plus excellent sound isolation and bass response.These are an over-the-ear design much like the S1. I never used that design prior to the S1 and it did take me a little time to get accustomed to it. It became second nature quickly, and the design is a lot more stable when exercising than the conventional in-ear design.These are more expensive than the S1, but you can hear the difference in price. Still, if you&#8217;re looking to keep the cost down a bit, the S1 is an excellent performer as well.Great sound, great comfort, wonderful cable design, and it comes with a solidly made case and lots of eartips. Highly recommend.[Sample provided for review]\n"
          ]
        }
      ],
      "source": [
        "sample_review = df[\"reviewText\"].iloc[1689185]\n",
        "print(sample_review)"
      ]
    },
    {
      "cell_type": "markdown",
      "metadata": {
        "id": "_P-zSLmJai0c"
      },
      "source": [
        "HTML Entities"
      ]
    },
    {
      "cell_type": "code",
      "execution_count": 14,
      "metadata": {
        "colab": {
          "base_uri": "https://localhost:8080/"
        },
        "id": "h0ZrFuZtal_p",
        "outputId": "5d7ffbce-1569-48f2-d8a1-0152af70b13b"
      },
      "outputs": [
        {
          "output_type": "stream",
          "name": "stdout",
          "text": [
            "I’m a big fan of the Brainwavz S1 (actually all of their headphones – have yet to be disappointed with any of their products). The S1 has been my main set for active use (e.g., workouts, runs, etc.) since the flat cable is very durable and resistant to tangles. The S5 keeps all the good features of the S1 and adds to it – the sound quality is richer and better defined.That’s not to say the S1 sounds poor – they are quite good, in fact. But the S5 are better. The highs are better defined and the midrange has more punch to it. The bass comes through clearly without moving into the harsh territory when the volume is pushed (as the S1s can do). The overall sound quality is very pleasing.The build quality seems solid – as solid as the S1 or better. I love the flat cable! I know that’s something that is not appreciated by everyone, but for me it’s been working out wonderfully. Although this (as most other Brainwavz headsets) comes with an excellent hard shell case, I usually tote my earbuds wrapped around my mp3 player in my pocket. Easy to carry; very stressful on the cables and can lead to tangles with round wires. Flat wires, especially those with a thick jacket such as these, survive that abuse with zero problems.The earbuds themselves are more sleekly shaped than the “can” style of the S1.Comfort is in line with the customary Brainwavz style, which is to say it’s outstanding. It comes with a wide range of tips to fit pretty much any ear, plus the Comply foam tips (which are my favorite). If fitted properly you end up with zero ear irritation plus excellent sound isolation and bass response.These are an over-the-ear design much like the S1. I never used that design prior to the S1 and it did take me a little time to get accustomed to it. It became second nature quickly, and the design is a lot more stable when exercising than the conventional in-ear design.These are more expensive than the S1, but you can hear the difference in price. Still, if you’re looking to keep the cost down a bit, the S1 is an excellent performer as well.Great sound, great comfort, wonderful cable design, and it comes with a solidly made case and lots of eartips. Highly recommend.[Sample provided for review]\n"
          ]
        }
      ],
      "source": [
        "import html\n",
        "\n",
        "decoded_review = html.unescape(sample_review)\n",
        "print(decoded_review)"
      ]
    },
    {
      "cell_type": "code",
      "execution_count": 15,
      "metadata": {
        "colab": {
          "base_uri": "https://localhost:8080/"
        },
        "id": "2-6MGgGDavnS",
        "outputId": "f73e1c9c-2962-40bc-ba1c-9f328e08bd35"
      },
      "outputs": [
        {
          "output_type": "stream",
          "name": "stdout",
          "text": [
            "Im a big fan of the Brainwavz S1 (actually all of their headphones  have yet to be disappointed with any of their products). The S1 has been my main set for active use (e.g., workouts, runs, etc.) since the flat cable is very durable and resistant to tangles. The S5 keeps all the good features of the S1 and adds to it  the sound quality is richer and better defined.Thats not to say the S1 sounds poor  they are quite good, in fact. But the S5 are better. The highs are better defined and the midrange has more punch to it. The bass comes through clearly without moving into the harsh territory when the volume is pushed (as the S1s can do). The overall sound quality is very pleasing.The build quality seems solid  as solid as the S1 or better. I love the flat cable! I know thats something that is not appreciated by everyone, but for me its been working out wonderfully. Although this (as most other Brainwavz headsets) comes with an excellent hard shell case, I usually tote my earbuds wrapped around my mp3 player in my pocket. Easy to carry; very stressful on the cables and can lead to tangles with round wires. Flat wires, especially those with a thick jacket such as these, survive that abuse with zero problems.The earbuds themselves are more sleekly shaped than the can style of the S1.Comfort is in line with the customary Brainwavz style, which is to say its outstanding. It comes with a wide range of tips to fit pretty much any ear, plus the Comply foam tips (which are my favorite). If fitted properly you end up with zero ear irritation plus excellent sound isolation and bass response.These are an over-the-ear design much like the S1. I never used that design prior to the S1 and it did take me a little time to get accustomed to it. It became second nature quickly, and the design is a lot more stable when exercising than the conventional in-ear design.These are more expensive than the S1, but you can hear the difference in price. Still, if youre looking to keep the cost down a bit, the S1 is an excellent performer as well.Great sound, great comfort, wonderful cable design, and it comes with a solidly made case and lots of eartips. Highly recommend.[Sample provided for review]\n"
          ]
        }
      ],
      "source": [
        "pattern = r\"\\&\\#[0-9]+\\;\"\n",
        "\n",
        "df[\"preprocessed\"] = df[\"reviewText\"].str.replace(pat=pattern, repl=\"\", regex=True)\n",
        "\n",
        "print(df[\"preprocessed\"].iloc[1689185])"
      ]
    },
    {
      "cell_type": "markdown",
      "metadata": {
        "id": "IOdLTkaea4VS"
      },
      "source": [
        "# Root Word Extraction"
      ]
    },
    {
      "cell_type": "code",
      "execution_count": 16,
      "metadata": {
        "colab": {
          "base_uri": "https://localhost:8080/"
        },
        "id": "mKQ7cRtia87K",
        "outputId": "dceed65f-3882-4b73-baeb-cae907e3ce79"
      },
      "outputs": [
        {
          "output_type": "stream",
          "name": "stderr",
          "text": [
            "[nltk_data] Downloading package wordnet to /root/nltk_data...\n",
            "[nltk_data] Downloading package stopwords to /root/nltk_data...\n",
            "[nltk_data]   Unzipping corpora/stopwords.zip.\n",
            "[nltk_data] Downloading package punkt to /root/nltk_data...\n",
            "[nltk_data]   Unzipping tokenizers/punkt.zip.\n",
            "[nltk_data] Downloading package averaged_perceptron_tagger to\n",
            "[nltk_data]     /root/nltk_data...\n",
            "[nltk_data]   Unzipping taggers/averaged_perceptron_tagger.zip.\n",
            "[nltk_data] Downloading package maxent_treebank_pos_tagger to\n",
            "[nltk_data]     /root/nltk_data...\n",
            "[nltk_data]   Unzipping taggers/maxent_treebank_pos_tagger.zip.\n"
          ]
        },
        {
          "output_type": "stream",
          "name": "stdout",
          "text": [
            "Im a big fan of the Brainwavz S1 actually all of their headphone have yet to be disappoint with any of their product The S1 have be my main set for active use e g workouts run etc since the flat cable be very durable and resistant to tangle The S5 keep all the good feature of the S1 and add to it the sound quality be rich and well define Thats not to say the S1 sound poor they be quite good in fact But the S5 be well The high be well define and the midrange have more punch to it The bass come through clearly without move into the harsh territory when the volume be push as the S1s can do The overall sound quality be very please The build quality seem solid as solid as the S1 or good I love the flat cable I know thats something that be not appreciate by everyone but for me its be work out wonderfully Although this as most other Brainwavz headset come with an excellent hard shell case I usually tote my earbuds wrap around my mp3 player in my pocket Easy to carry ; very stressful on the cable and can lead to tangle with round wire Flat wire especially those with a thick jacket such as these survive that abuse with zero problem The earbuds themselves be more sleekly shape than the can style of the S1 Comfort be in line with the customary Brainwavz style which be to say its outstanding It come with a wide range of tip to fit pretty much any ear plus the Comply foam tip which be my favorite If fit properly you end up with zero ear irritation plus excellent sound isolation and bass response These be an over-the-ear design much like the S1 I never use that design prior to the S1 and it do take me a little time to get accustom to it It become second nature quickly and the design be a lot more stable when exercise than the conventional in-ear design These be more expensive than the S1 but you can hear the difference in price Still if youre look to keep the cost down a bit the S1 be an excellent performer as well Great sound great comfort wonderful cable design and it come with a solidly make case and lot of eartips Highly recommend [ Sample provide for review ]\n",
            "CPU times: user 2h 48min 17s, sys: 2min 16s, total: 2h 50min 34s\n",
            "Wall time: 2h 50min 15s\n"
          ]
        }
      ],
      "source": [
        "%%time\n",
        "import re\n",
        "import nltk\n",
        "\n",
        "from nltk import word_tokenize, pos_tag\n",
        "from nltk.stem import WordNetLemmatizer\n",
        "from nltk.tokenize import sent_tokenize\n",
        "from nltk.corpus import wordnet\n",
        "\n",
        "#import nltk resources\n",
        "resources = [\"wordnet\", \"stopwords\", \"punkt\", \\\n",
        "             \"averaged_perceptron_tagger\", \"maxent_treebank_pos_tagger\"]\n",
        "\n",
        "for resource in resources:\n",
        "    try:\n",
        "        nltk.data.find(\"tokenizers/\" + resource)\n",
        "    except LookupError:\n",
        "        nltk.download(resource)\n",
        "\n",
        "#create Lemmatizer object\n",
        "lemma = WordNetLemmatizer()\n",
        "\n",
        "def lemmatize_word(tagged_token):\n",
        "    \"\"\" Returns lemmatized word given its tag\"\"\"\n",
        "    root = []\n",
        "    for token in tagged_token:\n",
        "        tag = token[1][0]\n",
        "        word = token[0]\n",
        "        if tag.startswith('J'):\n",
        "            root.append(lemma.lemmatize(word, wordnet.ADJ))\n",
        "        elif tag.startswith('V'):\n",
        "            root.append(lemma.lemmatize(word, wordnet.VERB))\n",
        "        elif tag.startswith('N'):\n",
        "            root.append(lemma.lemmatize(word, wordnet.NOUN))\n",
        "        elif tag.startswith('R'):\n",
        "            root.append(lemma.lemmatize(word, wordnet.ADV))\n",
        "        else:\n",
        "            root.append(word)\n",
        "    return root\n",
        "\n",
        "def lemmatize_doc(document):\n",
        "    \"\"\" Tags words then returns sentence with lemmatized words\"\"\"\n",
        "    lemmatized_list = []\n",
        "    tokenized_sent = sent_tokenize(document)\n",
        "    for sentence in tokenized_sent:\n",
        "        no_punctuation = re.sub(r\"[`'\\\",.!?()]\", \" \", sentence)\n",
        "        tokenized_word = word_tokenize(no_punctuation)\n",
        "        tagged_token = pos_tag(tokenized_word)\n",
        "        lemmatized = lemmatize_word(tagged_token)\n",
        "        lemmatized_list.extend(lemmatized)\n",
        "    return \" \".join(lemmatized_list)\n",
        "\n",
        "#apply our functions\n",
        "df[\"preprocessed\"] = df[\"preprocessed\"].apply(lambda row: lemmatize_doc(row))\n",
        "\n",
        "print(df[\"preprocessed\"].iloc[1689185])"
      ]
    },
    {
      "cell_type": "markdown",
      "metadata": {
        "id": "XGrsbVpTioXV"
      },
      "source": [
        "# Removing Accents"
      ]
    },
    {
      "cell_type": "code",
      "execution_count": 17,
      "metadata": {
        "id": "BWvy7iJuitCT",
        "colab": {
          "base_uri": "https://localhost:8080/"
        },
        "outputId": "4c1205c6-712a-4424-addd-fcb01309789a"
      },
      "outputs": [
        {
          "output_type": "stream",
          "name": "stdout",
          "text": [
            "Im a big fan of the Brainwavz S1 actually all of their headphone have yet to be disappoint with any of their product The S1 have be my main set for active use e g workouts run etc since the flat cable be very durable and resistant to tangle The S5 keep all the good feature of the S1 and add to it the sound quality be rich and well define Thats not to say the S1 sound poor they be quite good in fact But the S5 be well The high be well define and the midrange have more punch to it The bass come through clearly without move into the harsh territory when the volume be push as the S1s can do The overall sound quality be very please The build quality seem solid as solid as the S1 or good I love the flat cable I know thats something that be not appreciate by everyone but for me its be work out wonderfully Although this as most other Brainwavz headset come with an excellent hard shell case I usually tote my earbuds wrap around my mp3 player in my pocket Easy to carry ; very stressful on the cable and can lead to tangle with round wire Flat wire especially those with a thick jacket such as these survive that abuse with zero problem The earbuds themselves be more sleekly shape than the can style of the S1 Comfort be in line with the customary Brainwavz style which be to say its outstanding It come with a wide range of tip to fit pretty much any ear plus the Comply foam tip which be my favorite If fit properly you end up with zero ear irritation plus excellent sound isolation and bass response These be an over-the-ear design much like the S1 I never use that design prior to the S1 and it do take me a little time to get accustom to it It become second nature quickly and the design be a lot more stable when exercise than the conventional in-ear design These be more expensive than the S1 but you can hear the difference in price Still if youre look to keep the cost down a bit the S1 be an excellent performer as well Great sound great comfort wonderful cable design and it come with a solidly make case and lot of eartips Highly recommend [ Sample provide for review ]\n"
          ]
        }
      ],
      "source": [
        "from unicodedata import normalize\n",
        "\n",
        "remove_accent = lambda text: normalize(\"NFKD\", text).encode(\"ascii\", \"ignore\").decode(\"utf-8\", \"ignore\")\n",
        "\n",
        "df[\"preprocessed\"] = df[\"preprocessed\"].apply(remove_accent)\n",
        "\n",
        "print(df[\"preprocessed\"].iloc[1689185])"
      ]
    },
    {
      "cell_type": "markdown",
      "metadata": {
        "id": "u_z2yZgz3-Vz"
      },
      "source": [
        "# Removing Punctuations"
      ]
    },
    {
      "cell_type": "code",
      "execution_count": 18,
      "metadata": {
        "id": "4sIufho737Rp",
        "colab": {
          "base_uri": "https://localhost:8080/"
        },
        "outputId": "9935a8ae-5f82-4746-a651-488cd391240e"
      },
      "outputs": [
        {
          "output_type": "stream",
          "name": "stdout",
          "text": [
            "Im a big fan of the Brainwavz S1 actually all of their headphone have yet to be disappoint with any of their product The S1 have be my main set for active use e g workouts run etc since the flat cable be very durable and resistant to tangle The S5 keep all the good feature of the S1 and add to it the sound quality be rich and well define Thats not to say the S1 sound poor they be quite good in fact But the S5 be well The high be well define and the midrange have more punch to it The bass come through clearly without move into the harsh territory when the volume be push as the S1s can do The overall sound quality be very please The build quality seem solid as solid as the S1 or good I love the flat cable I know thats something that be not appreciate by everyone but for me its be work out wonderfully Although this as most other Brainwavz headset come with an excellent hard shell case I usually tote my earbuds wrap around my mp3 player in my pocket Easy to carry   very stressful on the cable and can lead to tangle with round wire Flat wire especially those with a thick jacket such as these survive that abuse with zero problem The earbuds themselves be more sleekly shape than the can style of the S1 Comfort be in line with the customary Brainwavz style which be to say its outstanding It come with a wide range of tip to fit pretty much any ear plus the Comply foam tip which be my favorite If fit properly you end up with zero ear irritation plus excellent sound isolation and bass response These be an over the ear design much like the S1 I never use that design prior to the S1 and it do take me a little time to get accustom to it It become second nature quickly and the design be a lot more stable when exercise than the conventional in ear design These be more expensive than the S1 but you can hear the difference in price Still if youre look to keep the cost down a bit the S1 be an excellent performer as well Great sound great comfort wonderful cable design and it come with a solidly make case and lot of eartips Highly recommend   Sample provide for review  \n"
          ]
        }
      ],
      "source": [
        "pattern = r\"[^\\w\\s]\"\n",
        "\n",
        "df[\"preprocessed\"] = df[\"preprocessed\"].str.replace(pat=pattern, repl=\" \", regex=True)\n",
        "\n",
        "print(df[\"preprocessed\"].iloc[1689185])"
      ]
    },
    {
      "cell_type": "markdown",
      "metadata": {
        "id": "a1D_iOGz4SO8"
      },
      "source": [
        "# Lower Case Convertion"
      ]
    },
    {
      "cell_type": "code",
      "execution_count": 19,
      "metadata": {
        "id": "_hbx1Xs04YSp",
        "colab": {
          "base_uri": "https://localhost:8080/"
        },
        "outputId": "4a9641ae-d523-4b8e-a648-c8dec3c6cc15"
      },
      "outputs": [
        {
          "output_type": "stream",
          "name": "stdout",
          "text": [
            "im a big fan of the brainwavz s1 actually all of their headphone have yet to be disappoint with any of their product the s1 have be my main set for active use e g workouts run etc since the flat cable be very durable and resistant to tangle the s5 keep all the good feature of the s1 and add to it the sound quality be rich and well define thats not to say the s1 sound poor they be quite good in fact but the s5 be well the high be well define and the midrange have more punch to it the bass come through clearly without move into the harsh territory when the volume be push as the s1s can do the overall sound quality be very please the build quality seem solid as solid as the s1 or good i love the flat cable i know thats something that be not appreciate by everyone but for me its be work out wonderfully although this as most other brainwavz headset come with an excellent hard shell case i usually tote my earbuds wrap around my mp3 player in my pocket easy to carry   very stressful on the cable and can lead to tangle with round wire flat wire especially those with a thick jacket such as these survive that abuse with zero problem the earbuds themselves be more sleekly shape than the can style of the s1 comfort be in line with the customary brainwavz style which be to say its outstanding it come with a wide range of tip to fit pretty much any ear plus the comply foam tip which be my favorite if fit properly you end up with zero ear irritation plus excellent sound isolation and bass response these be an over the ear design much like the s1 i never use that design prior to the s1 and it do take me a little time to get accustom to it it become second nature quickly and the design be a lot more stable when exercise than the conventional in ear design these be more expensive than the s1 but you can hear the difference in price still if youre look to keep the cost down a bit the s1 be an excellent performer as well great sound great comfort wonderful cable design and it come with a solidly make case and lot of eartips highly recommend   sample provide for review  \n"
          ]
        }
      ],
      "source": [
        "df[\"preprocessed\"] = df[\"preprocessed\"].str.lower()\n",
        "\n",
        "print(df[\"preprocessed\"].iloc[1689185])"
      ]
    },
    {
      "cell_type": "markdown",
      "metadata": {
        "id": "jlJr8M6s4fpF"
      },
      "source": [
        "# Stop Words Removal"
      ]
    },
    {
      "cell_type": "code",
      "execution_count": 20,
      "metadata": {
        "id": "2Wuyo6Ck4iH_",
        "colab": {
          "base_uri": "https://localhost:8080/"
        },
        "outputId": "1c90f149-a7f7-4834-cdd8-dae05b91a824"
      },
      "outputs": [
        {
          "output_type": "stream",
          "name": "stdout",
          "text": [
            "sample stop words: ['i', 'me', 'my', 'myself', 'we', 'our', 'ours', 'ourselves', 'you', 'youre', 'youve', 'youll', 'youd', 'your', 'yours'] \n",
            "\n",
            "im big fan brainwavz s1 actually headphone yet disappoint product s1 main set active use e g workouts run etc since flat cable durable resistant tangle s5 keep good feature s1 add sound quality rich well define thats say s1 sound poor quite good fact s5 well high well define midrange punch bass come clearly without move harsh territory volume push s1s overall sound quality please build quality seem solid solid s1 good love flat cable know thats something appreciate everyone work wonderfully although brainwavz headset come excellent hard shell case usually tote earbuds wrap around mp3 player pocket easy carry   stressful cable lead tangle round wire flat wire especially thick jacket survive abuse zero problem earbuds sleekly shape style s1 comfort line customary brainwavz style say outstanding come wide range tip fit pretty much ear plus comply foam tip favorite fit properly end zero ear irritation plus excellent sound isolation bass response ear design much like s1 never use design prior s1 take little time get accustom become second nature quickly design lot stable exercise conventional ear design expensive s1 hear difference price still look keep cost bit s1 excellent performer well great sound great comfort wonderful cable design come solidly make case lot eartips highly recommend   sample provide review  \n"
          ]
        }
      ],
      "source": [
        "from nltk.corpus import stopwords\n",
        "\n",
        "stop_words = stopwords.words(\"english\")\n",
        "\n",
        "stop_words = [word.replace(\"\\'\", \"\") for word in stop_words]\n",
        "\n",
        "print(f\"sample stop words: {stop_words[:15]} \\n\")\n",
        "\n",
        "remove_stop_words = lambda row: \" \".join([token for token in row.split(\" \") \\\n",
        "                                          if token not in stop_words])\n",
        "df[\"preprocessed\"] = df[\"preprocessed\"].apply(remove_stop_words)\n",
        "\n",
        "print(df[\"preprocessed\"].iloc[1689185])"
      ]
    },
    {
      "cell_type": "markdown",
      "metadata": {
        "id": "1nYkfJ5k4obB"
      },
      "source": [
        "# Extra Space Removal"
      ]
    },
    {
      "cell_type": "code",
      "execution_count": 21,
      "metadata": {
        "id": "dbxmDrcu4rJA",
        "colab": {
          "base_uri": "https://localhost:8080/"
        },
        "outputId": "2efefc65-2b2b-4f80-f3d9-f5248a6e525a"
      },
      "outputs": [
        {
          "output_type": "stream",
          "name": "stdout",
          "text": [
            "im big fan brainwavz s1 actually headphone yet disappoint product s1 main set active use e g workouts run etc since flat cable durable resistant tangle s5 keep good feature s1 add sound quality rich well define thats say s1 sound poor quite good fact s5 well high well define midrange punch bass come clearly without move harsh territory volume push s1s overall sound quality please build quality seem solid solid s1 good love flat cable know thats something appreciate everyone work wonderfully although brainwavz headset come excellent hard shell case usually tote earbuds wrap around mp3 player pocket easy carry stressful cable lead tangle round wire flat wire especially thick jacket survive abuse zero problem earbuds sleekly shape style s1 comfort line customary brainwavz style say outstanding come wide range tip fit pretty much ear plus comply foam tip favorite fit properly end zero ear irritation plus excellent sound isolation bass response ear design much like s1 never use design prior s1 take little time get accustom become second nature quickly design lot stable exercise conventional ear design expensive s1 hear difference price still look keep cost bit s1 excellent performer well great sound great comfort wonderful cable design come solidly make case lot eartips highly recommend sample provide review \n"
          ]
        }
      ],
      "source": [
        "pattern = r\"[\\s]+\"\n",
        "\n",
        "df[\"preprocessed\"] = df[\"preprocessed\"].str.replace(pat=pattern, repl=\" \", regex=True)\n",
        "\n",
        "print(df[\"preprocessed\"].iloc[1689185])"
      ]
    },
    {
      "cell_type": "markdown",
      "metadata": {
        "id": "wHzDaZby4vvI"
      },
      "source": [
        "# TOKENIZATION"
      ]
    },
    {
      "cell_type": "code",
      "execution_count": 22,
      "metadata": {
        "id": "dPNykhMe41bq",
        "colab": {
          "base_uri": "https://localhost:8080/"
        },
        "outputId": "b3f7b7e0-9054-4205-a6e9-a29919c75bea"
      },
      "outputs": [
        {
          "output_type": "stream",
          "name": "stdout",
          "text": [
            "['im', 'big', 'fan', 'brainwavz', 's1', 'actually', 'headphone', 'yet', 'disappoint', 'product', 's1', 'main', 'set', 'active', 'use', 'e', 'g', 'workouts', 'run', 'etc', 'since', 'flat', 'cable', 'durable', 'resistant', 'tangle', 's5', 'keep', 'good', 'feature', 's1', 'add', 'sound', 'quality', 'rich', 'well', 'define', 'thats', 'say', 's1', 'sound', 'poor', 'quite', 'good', 'fact', 's5', 'well', 'high', 'well', 'define', 'midrange', 'punch', 'bass', 'come', 'clearly', 'without', 'move', 'harsh', 'territory', 'volume', 'push', 's1s', 'overall', 'sound', 'quality', 'please', 'build', 'quality', 'seem', 'solid', 'solid', 's1', 'good', 'love', 'flat', 'cable', 'know', 'thats', 'something', 'appreciate', 'everyone', 'work', 'wonderfully', 'although', 'brainwavz', 'headset', 'come', 'excellent', 'hard', 'shell', 'case', 'usually', 'tote', 'earbuds', 'wrap', 'around', 'mp3', 'player', 'pocket', 'easy', 'carry', 'stressful', 'cable', 'lead', 'tangle', 'round', 'wire', 'flat', 'wire', 'especially', 'thick', 'jacket', 'survive', 'abuse', 'zero', 'problem', 'earbuds', 'sleekly', 'shape', 'style', 's1', 'comfort', 'line', 'customary', 'brainwavz', 'style', 'say', 'outstanding', 'come', 'wide', 'range', 'tip', 'fit', 'pretty', 'much', 'ear', 'plus', 'comply', 'foam', 'tip', 'favorite', 'fit', 'properly', 'end', 'zero', 'ear', 'irritation', 'plus', 'excellent', 'sound', 'isolation', 'bass', 'response', 'ear', 'design', 'much', 'like', 's1', 'never', 'use', 'design', 'prior', 's1', 'take', 'little', 'time', 'get', 'accustom', 'become', 'second', 'nature', 'quickly', 'design', 'lot', 'stable', 'exercise', 'conventional', 'ear', 'design', 'expensive', 's1', 'hear', 'difference', 'price', 'still', 'look', 'keep', 'cost', 'bit', 's1', 'excellent', 'performer', 'well', 'great', 'sound', 'great', 'comfort', 'wonderful', 'cable', 'design', 'come', 'solidly', 'make', 'case', 'lot', 'eartips', 'highly', 'recommend', 'sample', 'provide', 'review', '']\n"
          ]
        }
      ],
      "source": [
        "corpora = df[\"preprocessed\"].values\n",
        "tokenized = [corpus.split(\" \") for corpus in corpora]\n",
        "\n",
        "print(tokenized[1689185])"
      ]
    },
    {
      "cell_type": "markdown",
      "source": [
        "# Phrase Modeling"
      ],
      "metadata": {
        "id": "7Ufl6hw7l67Z"
      }
    },
    {
      "cell_type": "code",
      "source": [
        "import numpy as np\n",
        "from gensim.models import Phrases\n",
        "from gensim.models.phrases import Phraser\n",
        "\n",
        "bi_gram = Phrases(tokenized, min_count=300, threshold=50)\n",
        "\n",
        "tri_gram = Phrases(bi_gram[tokenized], min_count=300, threshold=50)"
      ],
      "metadata": {
        "id": "Og7DaGXYl_x9"
      },
      "execution_count": 23,
      "outputs": []
    },
    {
      "cell_type": "markdown",
      "source": [
        "Unigrams"
      ],
      "metadata": {
        "id": "umqIPUyKmDCf"
      }
    },
    {
      "cell_type": "code",
      "source": [
        "uni_gram_tokens = set([token for text in tokenized for token in text])\n",
        "uni_gram_tokens = set(filter(lambda x: x != \"\", uni_gram_tokens))\n",
        "\n",
        "print(list(uni_gram_tokens)[:50])"
      ],
      "metadata": {
        "id": "gSfv8lfzmGki",
        "colab": {
          "base_uri": "https://localhost:8080/"
        },
        "outputId": "a49eb3b4-e6ee-46dd-e2cb-445f0e9364c0"
      },
      "execution_count": 24,
      "outputs": [
        {
          "output_type": "stream",
          "name": "stdout",
          "text": [
            "['e213431', 'descritas', 'uh003', 'sunfortunately', '660g', 'zta', 'sectionavoid', '20days', 'finisar', 'chnages', 'impectable', 'forregular', 'worthseeking', 'aps3and', 'in1988', 'cyanotic', '__________________________________dos', 'evaluates', 'jenna', 'thingsstarting', 'bulky4', 'chinathe', 'aftert', 'inimitably', 'v1700', 'reaading', 'xhd3000', 'radiant', 'dp45sg', 'virtuelle', 'mo2d9xjdp48efeu', 'brasilian', '63m8', 'contivity', 'ukraine', 'chancy', 'inexplicably', 'vx2240w', 'authenticated', 'allset', 'versiontried', 'generationally', 'geel', 'lifebad', '4600sq', 'xlrf', 'thenyrius', '201c', '803r', '1356database']\n"
          ]
        }
      ]
    },
    {
      "cell_type": "markdown",
      "source": [
        "Bigrams"
      ],
      "metadata": {
        "id": "-pzaaomHmKnz"
      }
    },
    {
      "cell_type": "code",
      "source": [
        "bigram_min = bi_gram.min_count\n",
        "\n",
        "bi_condition = lambda x: x[1] >= bigram_min\n",
        "\n",
        "bi_gram_tokens = dict(filter(bi_condition, bi_gram.vocab.items()))\n",
        "bi_gram_tokens = set([str(token) \\\n",
        "                      for token in bi_gram_tokens])\n",
        "\n",
        "bi_grams_only = bi_gram_tokens.difference(uni_gram_tokens)\n",
        "print(list(bi_grams_only)[:50])"
      ],
      "metadata": {
        "colab": {
          "base_uri": "https://localhost:8080/"
        },
        "id": "o1Ss-xC420z7",
        "outputId": "a5671f71-26d4-49bd-da2e-bb095cc7520b"
      },
      "execution_count": 29,
      "outputs": [
        {
          "output_type": "stream",
          "name": "stdout",
          "text": [
            "['', 'card_reader', 'system_small', 'version_lens', 'high_bandwidth', 'two_camera', 'adapter_two', 'laptop_much', 'tell_return', 'playstation_3', 'sony_memory', 'come_many', 'con_find', 'overall_though', 'port_would', 'good_tripod', 'come_end', 'use_straight', 'driver_instal', 'software_find', 'work_travel', 'decide_keep', 'problem_computer', 'compact_enough', 'instant_video', 'review_sample', 'stay_home', 'wire_hang', 'overall_picture', 'deal_day', 'trip_work', 'problem_probably', '2_keyboard', 'brightness_contrast', 'noise_still', 'customer_image', 'quality_two', 'tiny_bit', 'much_clear', 'different_time', 'find_answer', 'order_keep', 'quality_reliability', 'low_battery', 'want_usb', 'monitor_connect', 'month_die', 'case_side', 'quality_excellent', 'connection_phone']\n"
          ]
        }
      ]
    },
    {
      "cell_type": "markdown",
      "source": [
        "Trigrams"
      ],
      "metadata": {
        "id": "-MF1Xj4ZmRAK"
      }
    },
    {
      "cell_type": "code",
      "source": [
        "trigram_min = tri_gram.min_count\n",
        "\n",
        "tri_condition = lambda x: x[1] >= trigram_min\n",
        "\n",
        "tri_gram_tokens = dict(filter(tri_condition, tri_gram.vocab.items()))\n",
        "tri_gram_tokens = set([str(token) \\\n",
        "                       for token in tri_gram_tokens])\n",
        "\n",
        "tri_grams_only = tri_gram_tokens.difference(bi_gram_tokens)\n",
        "print(list(tri_grams_only)[:50])"
      ],
      "metadata": {
        "id": "DZmbISWimTzj",
        "colab": {
          "base_uri": "https://localhost:8080/"
        },
        "outputId": "2df9a7d1-952e-41c8-a56a-ad7c25d6943c"
      },
      "execution_count": 31,
      "outputs": [
        {
          "output_type": "stream",
          "name": "stdout",
          "text": [
            "['far_exceed_expectation', '5400_rpm_drive', 'http_www_amazon', 'blah_blah_blah', 'cell_phone_camera', 'wide_angle_lens', 'blu_ray_player', 'panasonic_lumix_dmc', '3rd_party_software', 'use_home_theater', 'f2_8_lens', 'canon_70_200', 'ps3_xbox_360', 'great_mp3_player', 'b_w_filter', 'poor_customer_service', 'tv_blu_ray', 'digital_slr_cameras', 'one_living_room', '2011_macbook_pro', 'get_blu_ray', 'lg_blu_ray', 'macbook_pro_retina', 'big_selling_point', 'kindle_fire_case', 'extended_period_time', 'home_theater_set', 'buy_kindle_fire', 'amazon_customer_service', 'galaxy_tab_10', 'cover_kindle_fire', '18_55mm_lens', 'sony_mdr_v6', '2_4ghz_5ghz', 'use_samsung_galaxy', 'case_kindle_fire', 'galaxy_tab_3', 'original_kindle_fire', 'great_customer_service', 'tv_living_room', 'screen_real_estate', 'old_macbook_pro', '90_degree_angle', '85mm_f_1', 'audio_technica_ath', 'elastic_band_hold', 'waste_money_time', 'macbook_pro_work', 'third_party_software', 'canon_5d_mark']\n"
          ]
        }
      ]
    },
    {
      "cell_type": "markdown",
      "source": [
        "Final Tokenized review"
      ],
      "metadata": {
        "id": "ejVtwzyumXBv"
      }
    },
    {
      "cell_type": "code",
      "source": [
        "tokenized = [Phraser(tri_gram)[Phraser(bi_gram)[i]] for i in tokenized]"
      ],
      "metadata": {
        "id": "eTX9PxhQmdYm"
      },
      "execution_count": null,
      "outputs": []
    },
    {
      "cell_type": "code",
      "source": [
        "tokenized = [list(filter(lambda x: len(x) > 1, document)) \\\n",
        "             for document in tokenized]\n",
        "\n",
        "print(tokenized[1689185])"
      ],
      "metadata": {
        "id": "zECw_v-cmvRq"
      },
      "execution_count": null,
      "outputs": []
    },
    {
      "cell_type": "markdown",
      "source": [
        "Creating the Vocabulary"
      ],
      "metadata": {
        "id": "MPjuJdGonORe"
      }
    },
    {
      "cell_type": "code",
      "source": [
        "from gensim.corpora.dictionary import Dictionary\n",
        "\n",
        "vocabulary = Dictionary(tokenized)\n",
        "\n",
        "vocabulary_keys = list(vocabulary.token2id)[0:10]\n",
        "\n",
        "for key in vocabulary_keys:\n",
        "    print(f\"ID: {vocabulary.token2id[key]}, Token: {key}\")"
      ],
      "metadata": {
        "id": "0UVef2CZnZEW"
      },
      "execution_count": null,
      "outputs": []
    },
    {
      "cell_type": "markdown",
      "source": [
        "# Count-based Feature Engineering"
      ],
      "metadata": {
        "id": "O1ZaNSXLoZxp"
      }
    },
    {
      "cell_type": "markdown",
      "source": [
        "Bag of Words"
      ],
      "metadata": {
        "id": "nFAt-U1Rnz85"
      }
    },
    {
      "cell_type": "code",
      "source": [
        "bow = [vocabulary.doc2bow(doc) for doc in tokenized]\n",
        "\n",
        "for idx, freq in bow[0]:\n",
        "    print(f\"Word: {vocabulary.get(idx)}, Frequency: {freq}\")"
      ],
      "metadata": {
        "id": "8Gr_sde-nx-m"
      },
      "execution_count": null,
      "outputs": []
    },
    {
      "cell_type": "markdown",
      "source": [
        "TF-IDF Model"
      ],
      "metadata": {
        "id": "Yahj27HXn55Z"
      }
    },
    {
      "cell_type": "code",
      "source": [
        "from gensim.models.tfidfmodel import TfidfModel\n",
        "\n",
        "tfidf = TfidfModel(bow)\n",
        "\n",
        "for idx, weight in tfidf[bow[0]]:\n",
        "    print(f\"Word: {vocabulary.get(idx)}, Weight: {weight:.3f}\")"
      ],
      "metadata": {
        "id": "85gzau5Yn6nI"
      },
      "execution_count": null,
      "outputs": []
    },
    {
      "cell_type": "markdown",
      "source": [
        "Word Embedding for Feature Engineering"
      ],
      "metadata": {
        "id": "rlHByL2Loiie"
      }
    },
    {
      "cell_type": "code",
      "source": [
        "%%time\n",
        "import numpy as np\n",
        "\n",
        "from gensim.models import word2vec\n",
        "\n",
        "np.set_printoptions(suppress=True)\n",
        "\n",
        "feature_size = 100\n",
        "context_size = 20\n",
        "min_word = 1\n",
        "\n",
        "word_vec= word2vec.Word2Vec(tokenized, size=feature_size, \\\n",
        "                            window=context_size, min_count=min_word, \\\n",
        "                            iter=50, seed=42)"
      ],
      "metadata": {
        "id": "ZmaY0GDVorH_"
      },
      "execution_count": null,
      "outputs": []
    },
    {
      "cell_type": "markdown",
      "source": [
        "# Final Dataframe"
      ],
      "metadata": {
        "id": "gFW_-p8TovRj"
      }
    },
    {
      "cell_type": "code",
      "source": [
        "word_vec_unpack = [(word, idx.index) for word, idx in \\\n",
        "                   word_vec.wv.vocab.items()]\n",
        "\n",
        "tokens, indexes = zip(*word_vec_unpack)\n",
        "\n",
        "word_vec_df = pd.DataFrame(word_vec.wv.syn0[indexes, :], index=tokens)\n",
        "\n",
        "display(word_vec_df.head())"
      ],
      "metadata": {
        "id": "GfbjCD1voxgR"
      },
      "execution_count": null,
      "outputs": []
    },
    {
      "cell_type": "code",
      "source": [
        "%%time\n",
        "tokenized_array = np.array(tokenized)\n",
        "\n",
        "model_array = np.array([word_vec_df.loc[doc].mean(axis=0) for doc in tokenized_array])"
      ],
      "metadata": {
        "id": "O7w6LNxEo6Nf"
      },
      "execution_count": null,
      "outputs": []
    },
    {
      "cell_type": "code",
      "source": [
        "model_df = pd.DataFrame(model_array)\n",
        "model_df[\"label\"] = df[\"overall\"]\n",
        "\n",
        "display(model_df.head())"
      ],
      "metadata": {
        "id": "cFS6BwJWo861"
      },
      "execution_count": null,
      "outputs": []
    },
    {
      "cell_type": "markdown",
      "source": [
        "Principal Component Analysis"
      ],
      "metadata": {
        "id": "LDbWQuZopDAL"
      }
    },
    {
      "cell_type": "code",
      "source": [
        "import matplotlib.pyplot as plt\n",
        "\n",
        "from sklearn.decomposition import PCA\n",
        "\n",
        "#sampling the model_df population\n",
        "pca_df = model_df.reset_index()\n",
        "pca_df = model_df.dropna(axis=0).iloc[:,1:]\n",
        "pca_df = pca_df.iloc[::50]\n",
        "\n",
        "#setting up PCA\n",
        "pca = PCA(n_components=2, random_state=42)\n",
        "pca = pca.fit_transform(pca_df.iloc[:, :-1])\n",
        "labels = pca_df[\"label\"]\n",
        "\n",
        "#setting up plot components\n",
        "x_axis = pca[:,0]\n",
        "y_axis = pca[:,1]\n",
        "color_map = pca_df[\"label\"].map({1:\"blue\", \\\n",
        "                                 2:\"red\", \\\n",
        "                                 3:\"yellow\", \\\n",
        "                                 4:\"green\", \\\n",
        "                                 5:\"orange\"})\n",
        "\n",
        "#plotting PCA\n",
        "f, axes = plt.subplots(figsize=(20,10))\n",
        "plt.scatter(x_axis, y_axis, color=color_map, s=1)\n",
        "plt.show()"
      ],
      "metadata": {
        "id": "ItMhlCjipDzF"
      },
      "execution_count": null,
      "outputs": []
    }
  ],
  "metadata": {
    "accelerator": "GPU",
    "colab": {
      "machine_shape": "hm",
      "provenance": [],
      "gpuType": "T4",
      "authorship_tag": "ABX9TyO56LZjW1UyNGs8pVffrYMw",
      "include_colab_link": true
    },
    "kernelspec": {
      "display_name": "Python 3",
      "name": "python3"
    },
    "language_info": {
      "name": "python"
    }
  },
  "nbformat": 4,
  "nbformat_minor": 0
}