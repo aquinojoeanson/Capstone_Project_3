{
  "cells": [
    {
      "cell_type": "markdown",
      "metadata": {
        "id": "view-in-github",
        "colab_type": "text"
      },
      "source": [
        "<a href=\"https://colab.research.google.com/github/aquinojoeanson/Capstone_Project_3/blob/main/NLPSplit_Wrangling.ipynb\" target=\"_parent\"><img src=\"https://colab.research.google.com/assets/colab-badge.svg\" alt=\"Open In Colab\"/></a>"
      ]
    },
    {
      "cell_type": "markdown",
      "source": [
        "# Data Wrangling"
      ],
      "metadata": {
        "id": "vBln31Qz6xyz"
      },
      "id": "vBln31Qz6xyz"
    },
    {
      "cell_type": "markdown",
      "source": [
        "### Gathering data"
      ],
      "metadata": {
        "id": "hkYjFoYhUtpb"
      },
      "id": "hkYjFoYhUtpb"
    },
    {
      "cell_type": "code",
      "source": [
        "from google.colab import drive\n",
        "drive.mount('/content/gdrive/', force_remount=True)"
      ],
      "metadata": {
        "colab": {
          "base_uri": "https://localhost:8080/"
        },
        "id": "AkdehLefGY90",
        "outputId": "87555d2a-f36b-4778-b5ef-34fd40cbfb41"
      },
      "id": "AkdehLefGY90",
      "execution_count": 1,
      "outputs": [
        {
          "output_type": "stream",
          "name": "stdout",
          "text": [
            "Mounted at /content/gdrive/\n"
          ]
        }
      ]
    },
    {
      "cell_type": "code",
      "execution_count": 2,
      "id": "398c6e88",
      "metadata": {
        "colab": {
          "base_uri": "https://localhost:8080/"
        },
        "id": "398c6e88",
        "outputId": "f7c339b0-a748-47f8-b9e2-97e2269892e9"
      },
      "outputs": [
        {
          "output_type": "stream",
          "name": "stdout",
          "text": [
            "Done\n"
          ]
        }
      ],
      "source": [
        "import csv\n",
        "import json\n",
        "\n",
        "input_file = \"/content/gdrive/MyDrive/Colab Notebooks/reviews_Electronics_5.json\"\n",
        "input_json = open(input_file, \"r\", encoding=\"utf-8\")\n",
        "\n",
        "output_file = \"/content/gdrive/MyDrive/Colab Notebooks/reviews_Electronics_5.csv\"\n",
        "with open(output_file, \"w\", encoding=\"utf-8\") as output_csv:\n",
        "    csv_writer = csv.writer(output_csv)\n",
        "    flag = 0\n",
        "    for line in input_json.readlines():\n",
        "        dic = json.loads(line)\n",
        "        # writing headline in the beginning\n",
        "        if flag == 0:\n",
        "            csv_writer.writerow(dic)\n",
        "            flag = 1\n",
        "        csv_writer.writerow(dic.values())\n",
        "\n",
        "print(\"Done\")"
      ]
    },
    {
      "cell_type": "markdown",
      "source": [
        "Since the value of overall is from 1 to 5, for convenience’ sake, we treat reviewText as two classification — negative and positive, labeled -1 and +1 respectively.\n",
        "\n",
        "Here are the rules:\n",
        "1. If the rating is 1 or 2, then the reviewText is treated as the negative, labeled -1.\n",
        "2. If the rating is 4 or 5, then the reviewText is treated as the positive, labeled+1.\n",
        "3. Ignore all reviewsText with the rating 3. Since they belong to a neutral sentiment."
      ],
      "metadata": {
        "id": "h96HV_JsT_Ct"
      },
      "id": "h96HV_JsT_Ct"
    },
    {
      "cell_type": "code",
      "source": [
        "import pandas as pd\n",
        "import string\n",
        "\n",
        "input_data = pd.read_csv(\"/content/gdrive/MyDrive/Colab Notebooks/reviews_Electronics_5.csv\")\n",
        "input_data['overall'] = input_data['overall'].astype(object) # fix datatype error\n",
        "input_data['asin'] = input_data['asin'].astype(object) # fix datatype error\n",
        "input_data['helpful'] = input_data['helpful'].astype(object) # fix datatype error\n",
        "input_data['reviewerID'] = input_data['reviewerID'].astype(object) # fix datatype error\n",
        "input_data['reviewerName'] = input_data['reviewerName'].astype(object) # fix datatype error\n",
        "input_data['summary'] = input_data['summary'].astype(object) # fix datatype error\n",
        "input_data['unixReviewTime'] = input_data['unixReviewTime'].astype(object) # fix datatype error\n",
        "\n",
        "dataset = {\"unixReviewTime\": input_data[\"unixReviewTime\"],\"summary\": input_data[\"summary\"],\"reviewerName\": input_data[\"reviewerName\"],\"reviewerID\": input_data[\"reviewerID\"],\"helpful\": input_data[\"helpful\"],\"asin\": input_data[\"asin\"], \"reviewText\": input_data[\"reviewText\"], \"overall\": input_data[\"overall\"]  }\n",
        "dataset = pd.DataFrame(data = dataset)\n",
        "dataset = dataset.dropna()\n",
        "\n",
        "dataset = dataset[dataset[\"overall\"] != '8'] # need datatype=object\n",
        "dataset[\"label\"] = dataset[\"overall\"].apply(lambda rating : +1 if str(rating) > '3' else -1)"
      ],
      "metadata": {
        "id": "2DBuiGR2PY87"
      },
      "id": "2DBuiGR2PY87",
      "execution_count": 3,
      "outputs": []
    },
    {
      "cell_type": "code",
      "source": [
        "dataset.head()\n"
      ],
      "metadata": {
        "colab": {
          "base_uri": "https://localhost:8080/",
          "height": 548
        },
        "id": "XHhfyCjRMKZb",
        "outputId": "28a5c0c4-9509-48b1-b9ed-e7c94979ef16"
      },
      "id": "XHhfyCjRMKZb",
      "execution_count": 4,
      "outputs": [
        {
          "output_type": "execute_result",
          "data": {
            "text/plain": [
              "  unixReviewTime                                 summary  \\\n",
              "0     1370131200                         Gotta have GPS!   \n",
              "1     1290643200                       Very Disappointed   \n",
              "2     1283990400                          1st impression   \n",
              "3     1290556800                 Great grafics, POOR GPS   \n",
              "4     1317254400  Major issues, only excuses for support   \n",
              "\n",
              "               reviewerName      reviewerID   helpful        asin  \\\n",
              "0                   amazdnu   AO94DHGC771SJ    [0, 0]  0528881469   \n",
              "1           Amazon Customer   AMO214LNFCEI4  [12, 15]  0528881469   \n",
              "2             C. A. Freeman  A3N7T0DY83Y4IG  [43, 45]  0528881469   \n",
              "3  Dave M. Shaw \"mack dave\"  A1H8PY3QHMQQA0   [9, 10]  0528881469   \n",
              "4               Wayne Smith  A24EV6RXELQZ63    [0, 0]  0528881469   \n",
              "\n",
              "                                          reviewText overall  label  \n",
              "0  We got this GPS for my husband who is an (OTR)...     5.0      1  \n",
              "1  I'm a professional OTR truck driver, and I bou...     1.0     -1  \n",
              "2  Well, what can I say.  I've had this unit in m...     3.0      1  \n",
              "3  Not going to write a long review, even thought...     2.0     -1  \n",
              "4  I've had mine for a year and here's what we go...     1.0     -1  "
            ],
            "text/html": [
              "\n",
              "\n",
              "  <div id=\"df-5dca4d59-0e52-4d05-8c9e-37c531414892\">\n",
              "    <div class=\"colab-df-container\">\n",
              "      <div>\n",
              "<style scoped>\n",
              "    .dataframe tbody tr th:only-of-type {\n",
              "        vertical-align: middle;\n",
              "    }\n",
              "\n",
              "    .dataframe tbody tr th {\n",
              "        vertical-align: top;\n",
              "    }\n",
              "\n",
              "    .dataframe thead th {\n",
              "        text-align: right;\n",
              "    }\n",
              "</style>\n",
              "<table border=\"1\" class=\"dataframe\">\n",
              "  <thead>\n",
              "    <tr style=\"text-align: right;\">\n",
              "      <th></th>\n",
              "      <th>unixReviewTime</th>\n",
              "      <th>summary</th>\n",
              "      <th>reviewerName</th>\n",
              "      <th>reviewerID</th>\n",
              "      <th>helpful</th>\n",
              "      <th>asin</th>\n",
              "      <th>reviewText</th>\n",
              "      <th>overall</th>\n",
              "      <th>label</th>\n",
              "    </tr>\n",
              "  </thead>\n",
              "  <tbody>\n",
              "    <tr>\n",
              "      <th>0</th>\n",
              "      <td>1370131200</td>\n",
              "      <td>Gotta have GPS!</td>\n",
              "      <td>amazdnu</td>\n",
              "      <td>AO94DHGC771SJ</td>\n",
              "      <td>[0, 0]</td>\n",
              "      <td>0528881469</td>\n",
              "      <td>We got this GPS for my husband who is an (OTR)...</td>\n",
              "      <td>5.0</td>\n",
              "      <td>1</td>\n",
              "    </tr>\n",
              "    <tr>\n",
              "      <th>1</th>\n",
              "      <td>1290643200</td>\n",
              "      <td>Very Disappointed</td>\n",
              "      <td>Amazon Customer</td>\n",
              "      <td>AMO214LNFCEI4</td>\n",
              "      <td>[12, 15]</td>\n",
              "      <td>0528881469</td>\n",
              "      <td>I'm a professional OTR truck driver, and I bou...</td>\n",
              "      <td>1.0</td>\n",
              "      <td>-1</td>\n",
              "    </tr>\n",
              "    <tr>\n",
              "      <th>2</th>\n",
              "      <td>1283990400</td>\n",
              "      <td>1st impression</td>\n",
              "      <td>C. A. Freeman</td>\n",
              "      <td>A3N7T0DY83Y4IG</td>\n",
              "      <td>[43, 45]</td>\n",
              "      <td>0528881469</td>\n",
              "      <td>Well, what can I say.  I've had this unit in m...</td>\n",
              "      <td>3.0</td>\n",
              "      <td>1</td>\n",
              "    </tr>\n",
              "    <tr>\n",
              "      <th>3</th>\n",
              "      <td>1290556800</td>\n",
              "      <td>Great grafics, POOR GPS</td>\n",
              "      <td>Dave M. Shaw \"mack dave\"</td>\n",
              "      <td>A1H8PY3QHMQQA0</td>\n",
              "      <td>[9, 10]</td>\n",
              "      <td>0528881469</td>\n",
              "      <td>Not going to write a long review, even thought...</td>\n",
              "      <td>2.0</td>\n",
              "      <td>-1</td>\n",
              "    </tr>\n",
              "    <tr>\n",
              "      <th>4</th>\n",
              "      <td>1317254400</td>\n",
              "      <td>Major issues, only excuses for support</td>\n",
              "      <td>Wayne Smith</td>\n",
              "      <td>A24EV6RXELQZ63</td>\n",
              "      <td>[0, 0]</td>\n",
              "      <td>0528881469</td>\n",
              "      <td>I've had mine for a year and here's what we go...</td>\n",
              "      <td>1.0</td>\n",
              "      <td>-1</td>\n",
              "    </tr>\n",
              "  </tbody>\n",
              "</table>\n",
              "</div>\n",
              "      <button class=\"colab-df-convert\" onclick=\"convertToInteractive('df-5dca4d59-0e52-4d05-8c9e-37c531414892')\"\n",
              "              title=\"Convert this dataframe to an interactive table.\"\n",
              "              style=\"display:none;\">\n",
              "\n",
              "  <svg xmlns=\"http://www.w3.org/2000/svg\" height=\"24px\"viewBox=\"0 0 24 24\"\n",
              "       width=\"24px\">\n",
              "    <path d=\"M0 0h24v24H0V0z\" fill=\"none\"/>\n",
              "    <path d=\"M18.56 5.44l.94 2.06.94-2.06 2.06-.94-2.06-.94-.94-2.06-.94 2.06-2.06.94zm-11 1L8.5 8.5l.94-2.06 2.06-.94-2.06-.94L8.5 2.5l-.94 2.06-2.06.94zm10 10l.94 2.06.94-2.06 2.06-.94-2.06-.94-.94-2.06-.94 2.06-2.06.94z\"/><path d=\"M17.41 7.96l-1.37-1.37c-.4-.4-.92-.59-1.43-.59-.52 0-1.04.2-1.43.59L10.3 9.45l-7.72 7.72c-.78.78-.78 2.05 0 2.83L4 21.41c.39.39.9.59 1.41.59.51 0 1.02-.2 1.41-.59l7.78-7.78 2.81-2.81c.8-.78.8-2.07 0-2.86zM5.41 20L4 18.59l7.72-7.72 1.47 1.35L5.41 20z\"/>\n",
              "  </svg>\n",
              "      </button>\n",
              "\n",
              "\n",
              "\n",
              "    <div id=\"df-ee61f903-cc49-4753-8c3d-8309edb09edc\">\n",
              "      <button class=\"colab-df-quickchart\" onclick=\"quickchart('df-ee61f903-cc49-4753-8c3d-8309edb09edc')\"\n",
              "              title=\"Suggest charts.\"\n",
              "              style=\"display:none;\">\n",
              "\n",
              "<svg xmlns=\"http://www.w3.org/2000/svg\" height=\"24px\"viewBox=\"0 0 24 24\"\n",
              "     width=\"24px\">\n",
              "    <g>\n",
              "        <path d=\"M19 3H5c-1.1 0-2 .9-2 2v14c0 1.1.9 2 2 2h14c1.1 0 2-.9 2-2V5c0-1.1-.9-2-2-2zM9 17H7v-7h2v7zm4 0h-2V7h2v10zm4 0h-2v-4h2v4z\"/>\n",
              "    </g>\n",
              "</svg>\n",
              "      </button>\n",
              "    </div>\n",
              "\n",
              "<style>\n",
              "  .colab-df-quickchart {\n",
              "    background-color: #E8F0FE;\n",
              "    border: none;\n",
              "    border-radius: 50%;\n",
              "    cursor: pointer;\n",
              "    display: none;\n",
              "    fill: #1967D2;\n",
              "    height: 32px;\n",
              "    padding: 0 0 0 0;\n",
              "    width: 32px;\n",
              "  }\n",
              "\n",
              "  .colab-df-quickchart:hover {\n",
              "    background-color: #E2EBFA;\n",
              "    box-shadow: 0px 1px 2px rgba(60, 64, 67, 0.3), 0px 1px 3px 1px rgba(60, 64, 67, 0.15);\n",
              "    fill: #174EA6;\n",
              "  }\n",
              "\n",
              "  [theme=dark] .colab-df-quickchart {\n",
              "    background-color: #3B4455;\n",
              "    fill: #D2E3FC;\n",
              "  }\n",
              "\n",
              "  [theme=dark] .colab-df-quickchart:hover {\n",
              "    background-color: #434B5C;\n",
              "    box-shadow: 0px 1px 3px 1px rgba(0, 0, 0, 0.15);\n",
              "    filter: drop-shadow(0px 1px 2px rgba(0, 0, 0, 0.3));\n",
              "    fill: #FFFFFF;\n",
              "  }\n",
              "</style>\n",
              "\n",
              "    <script>\n",
              "      async function quickchart(key) {\n",
              "        const containerElement = document.querySelector('#' + key);\n",
              "        const charts = await google.colab.kernel.invokeFunction(\n",
              "            'suggestCharts', [key], {});\n",
              "      }\n",
              "    </script>\n",
              "\n",
              "      <script>\n",
              "\n",
              "function displayQuickchartButton(domScope) {\n",
              "  let quickchartButtonEl =\n",
              "    domScope.querySelector('#df-ee61f903-cc49-4753-8c3d-8309edb09edc button.colab-df-quickchart');\n",
              "  quickchartButtonEl.style.display =\n",
              "    google.colab.kernel.accessAllowed ? 'block' : 'none';\n",
              "}\n",
              "\n",
              "        displayQuickchartButton(document);\n",
              "      </script>\n",
              "      <style>\n",
              "    .colab-df-container {\n",
              "      display:flex;\n",
              "      flex-wrap:wrap;\n",
              "      gap: 12px;\n",
              "    }\n",
              "\n",
              "    .colab-df-convert {\n",
              "      background-color: #E8F0FE;\n",
              "      border: none;\n",
              "      border-radius: 50%;\n",
              "      cursor: pointer;\n",
              "      display: none;\n",
              "      fill: #1967D2;\n",
              "      height: 32px;\n",
              "      padding: 0 0 0 0;\n",
              "      width: 32px;\n",
              "    }\n",
              "\n",
              "    .colab-df-convert:hover {\n",
              "      background-color: #E2EBFA;\n",
              "      box-shadow: 0px 1px 2px rgba(60, 64, 67, 0.3), 0px 1px 3px 1px rgba(60, 64, 67, 0.15);\n",
              "      fill: #174EA6;\n",
              "    }\n",
              "\n",
              "    [theme=dark] .colab-df-convert {\n",
              "      background-color: #3B4455;\n",
              "      fill: #D2E3FC;\n",
              "    }\n",
              "\n",
              "    [theme=dark] .colab-df-convert:hover {\n",
              "      background-color: #434B5C;\n",
              "      box-shadow: 0px 1px 3px 1px rgba(0, 0, 0, 0.15);\n",
              "      filter: drop-shadow(0px 1px 2px rgba(0, 0, 0, 0.3));\n",
              "      fill: #FFFFFF;\n",
              "    }\n",
              "  </style>\n",
              "\n",
              "      <script>\n",
              "        const buttonEl =\n",
              "          document.querySelector('#df-5dca4d59-0e52-4d05-8c9e-37c531414892 button.colab-df-convert');\n",
              "        buttonEl.style.display =\n",
              "          google.colab.kernel.accessAllowed ? 'block' : 'none';\n",
              "\n",
              "        async function convertToInteractive(key) {\n",
              "          const element = document.querySelector('#df-5dca4d59-0e52-4d05-8c9e-37c531414892');\n",
              "          const dataTable =\n",
              "            await google.colab.kernel.invokeFunction('convertToInteractive',\n",
              "                                                     [key], {});\n",
              "          if (!dataTable) return;\n",
              "\n",
              "          const docLinkHtml = 'Like what you see? Visit the ' +\n",
              "            '<a target=\"_blank\" href=https://colab.research.google.com/notebooks/data_table.ipynb>data table notebook</a>'\n",
              "            + ' to learn more about interactive tables.';\n",
              "          element.innerHTML = '';\n",
              "          dataTable['output_type'] = 'display_data';\n",
              "          await google.colab.output.renderOutput(dataTable, element);\n",
              "          const docLink = document.createElement('div');\n",
              "          docLink.innerHTML = docLinkHtml;\n",
              "          element.appendChild(docLink);\n",
              "        }\n",
              "      </script>\n",
              "    </div>\n",
              "  </div>\n"
            ]
          },
          "metadata": {},
          "execution_count": 4
        }
      ]
    },
    {
      "cell_type": "markdown",
      "source": [
        "### Splitting Dataset into Training and Testing sets\n",
        "Training set — a subset to train the model.\n",
        "Testing set — a subset to test the trained model.\n",
        "\n",
        "Using the package of scikit-learn, we can split data easily."
      ],
      "metadata": {
        "id": "CAyixbzKUPnq"
      },
      "id": "CAyixbzKUPnq"
    },
    {
      "cell_type": "code",
      "execution_count": 7,
      "id": "bdc82947",
      "metadata": {
        "id": "bdc82947",
        "colab": {
          "base_uri": "https://localhost:8080/"
        },
        "outputId": "7b3266e7-a85f-497d-c7c7-75196c5fde11"
      },
      "outputs": [
        {
          "output_type": "stream",
          "name": "stdout",
          "text": [
            "Requirement already satisfied: sklearn in /usr/local/lib/python3.10/dist-packages (0.0.post5)\n"
          ]
        }
      ],
      "source": [
        "import sklearn.feature_extraction.text as text\n",
        "!pip install --upgrade sklearn\n",
        "\n",
        "from sklearn.model_selection import train_test_split\n",
        "\n",
        "X = pd.DataFrame(dataset, columns = [\"reviewText\"])\n",
        "y = pd.DataFrame(dataset, columns = [\"label\"])\n",
        "\n",
        "train_X, test_X, trian_y, test_y = train_test_split(X, y, random_state=50)"
      ]
    },
    {
      "cell_type": "markdown",
      "source": [
        "# Data Text Processing"
      ],
      "metadata": {
        "id": "9NzAQVuq6-hV"
      },
      "id": "9NzAQVuq6-hV"
    },
    {
      "cell_type": "markdown",
      "source": [
        "The goal is to produce tokens for every review and will make up our corpora where we will draw our vocabulary. To achieve this will work on reviewText to prepare our final model's dataframe."
      ],
      "metadata": {
        "id": "1zMnSr7MWtDX"
      },
      "id": "1zMnSr7MWtDX"
    },
    {
      "cell_type": "code",
      "source": [
        "sample_review = dataset[\"reviewText\"].iloc[0]\n",
        "print(sample_review)"
      ],
      "metadata": {
        "colab": {
          "base_uri": "https://localhost:8080/"
        },
        "id": "nKP2QqrmWY8L",
        "outputId": "28dae92f-a706-4a55-c2ef-72f09dc12611"
      },
      "id": "nKP2QqrmWY8L",
      "execution_count": 8,
      "outputs": [
        {
          "output_type": "stream",
          "name": "stdout",
          "text": [
            "We got this GPS for my husband who is an (OTR) over the road trucker.  Very Impressed with the shipping time, it arrived a few days earlier than expected...  within a week of use however it started freezing up... could of just been a glitch in that unit.  Worked great when it worked!  Will work great for the normal person as well but does have the \"trucker\" option. (the big truck routes - tells you when a scale is coming up ect...)  Love the bigger screen, the ease of use, the ease of putting addresses into memory.  Nothing really bad to say about the unit with the exception of it freezing which is probably one in a million and that's just my luck.  I contacted the seller and within minutes of my email I received a email back with instructions for an exchange! VERY impressed all the way around!\n"
          ]
        }
      ]
    },
    {
      "cell_type": "markdown",
      "source": [
        "HTML"
      ],
      "metadata": {
        "id": "5ELVUuSBWyEw"
      },
      "id": "5ELVUuSBWyEw"
    },
    {
      "cell_type": "code",
      "source": [
        "import html\n",
        "\n",
        "decoded_review = html.unescape(sample_review)\n",
        "print(decoded_review)"
      ],
      "metadata": {
        "colab": {
          "base_uri": "https://localhost:8080/"
        },
        "id": "RxUKxjBoWY_Q",
        "outputId": "7b571dfd-39d7-4676-8ee2-6c3f98349c38"
      },
      "id": "RxUKxjBoWY_Q",
      "execution_count": 9,
      "outputs": [
        {
          "output_type": "stream",
          "name": "stdout",
          "text": [
            "We got this GPS for my husband who is an (OTR) over the road trucker.  Very Impressed with the shipping time, it arrived a few days earlier than expected...  within a week of use however it started freezing up... could of just been a glitch in that unit.  Worked great when it worked!  Will work great for the normal person as well but does have the \"trucker\" option. (the big truck routes - tells you when a scale is coming up ect...)  Love the bigger screen, the ease of use, the ease of putting addresses into memory.  Nothing really bad to say about the unit with the exception of it freezing which is probably one in a million and that's just my luck.  I contacted the seller and within minutes of my email I received a email back with instructions for an exchange! VERY impressed all the way around!\n"
          ]
        }
      ]
    },
    {
      "cell_type": "markdown",
      "source": [
        "Root Word"
      ],
      "metadata": {
        "id": "tmQlYslnZ6dT"
      },
      "id": "tmQlYslnZ6dT"
    },
    {
      "cell_type": "code",
      "source": [
        "pattern = r\"\\&\\#[0-9]+\\;\"\n",
        "\n",
        "dataset[\"preprocessed\"] = dataset[\"reviewText\"].str.replace(pat=pattern, repl=\"\", regex=True)\n",
        "\n",
        "print(dataset[\"preprocessed\"].iloc[0])"
      ],
      "metadata": {
        "colab": {
          "base_uri": "https://localhost:8080/"
        },
        "id": "lqGUqoqgWZB1",
        "outputId": "a833fccf-b871-4099-b028-01443c1b99ac"
      },
      "id": "lqGUqoqgWZB1",
      "execution_count": 10,
      "outputs": [
        {
          "output_type": "stream",
          "name": "stdout",
          "text": [
            "We got this GPS for my husband who is an (OTR) over the road trucker.  Very Impressed with the shipping time, it arrived a few days earlier than expected...  within a week of use however it started freezing up... could of just been a glitch in that unit.  Worked great when it worked!  Will work great for the normal person as well but does have the \"trucker\" option. (the big truck routes - tells you when a scale is coming up ect...)  Love the bigger screen, the ease of use, the ease of putting addresses into memory.  Nothing really bad to say about the unit with the exception of it freezing which is probably one in a million and that's just my luck.  I contacted the seller and within minutes of my email I received a email back with instructions for an exchange! VERY impressed all the way around!\n"
          ]
        }
      ]
    },
    {
      "cell_type": "code",
      "source": [],
      "metadata": {
        "id": "9TLfxoMcZ2Ti"
      },
      "id": "9TLfxoMcZ2Ti",
      "execution_count": null,
      "outputs": []
    },
    {
      "cell_type": "markdown",
      "source": [
        "Dropping punctuation marks and all html entities in review text. Without the special character output preprocessed is our reviewText."
      ],
      "metadata": {
        "id": "dIZM55uRXDfj"
      },
      "id": "dIZM55uRXDfj"
    },
    {
      "cell_type": "markdown",
      "source": [
        "UTF-8 to ASCII"
      ],
      "metadata": {
        "id": "0DQWdfftXugS"
      },
      "id": "0DQWdfftXugS"
    },
    {
      "cell_type": "code",
      "source": [
        "from unicodedata import normalize\n",
        "\n",
        "remove_accent = lambda text: normalize(\"NFKD\", text).encode(\"ascii\", \"ignore\").decode(\"utf-8\", \"ignore\")\n",
        "\n",
        "dataset[\"preprocessed\"] = dataset[\"preprocessed\"].apply(remove_accent)\n",
        "\n",
        "print(dataset[\"preprocessed\"].iloc[0])"
      ],
      "metadata": {
        "colab": {
          "base_uri": "https://localhost:8080/"
        },
        "id": "TYzdUEiAXPq7",
        "outputId": "11df3487-dada-41fc-d31a-0f384ea336bc"
      },
      "id": "TYzdUEiAXPq7",
      "execution_count": 12,
      "outputs": [
        {
          "output_type": "stream",
          "name": "stdout",
          "text": [
            "We got this GPS for my husband who is an (OTR) over the road trucker.  Very Impressed with the shipping time, it arrived a few days earlier than expected...  within a week of use however it started freezing up... could of just been a glitch in that unit.  Worked great when it worked!  Will work great for the normal person as well but does have the \"trucker\" option. (the big truck routes - tells you when a scale is coming up ect...)  Love the bigger screen, the ease of use, the ease of putting addresses into memory.  Nothing really bad to say about the unit with the exception of it freezing which is probably one in a million and that's just my luck.  I contacted the seller and within minutes of my email I received a email back with instructions for an exchange! VERY impressed all the way around!\n"
          ]
        }
      ]
    },
    {
      "cell_type": "markdown",
      "source": [
        "Removing Punctuations"
      ],
      "metadata": {
        "id": "GxjIW5woX6EH"
      },
      "id": "GxjIW5woX6EH"
    },
    {
      "cell_type": "code",
      "source": [
        "pattern = r\"[^\\w\\s]\"\n",
        "\n",
        "dataset[\"preprocessed\"] = dataset[\"preprocessed\"].str.replace(pat=pattern, repl=\" \", regex=True)\n",
        "\n",
        "print(dataset[\"preprocessed\"].iloc[0])"
      ],
      "metadata": {
        "colab": {
          "base_uri": "https://localhost:8080/"
        },
        "id": "hb6sVOnSXPt8",
        "outputId": "d6053fb5-620c-4ca0-b4d0-d81f5af164c3"
      },
      "id": "hb6sVOnSXPt8",
      "execution_count": 13,
      "outputs": [
        {
          "output_type": "stream",
          "name": "stdout",
          "text": [
            "We got this GPS for my husband who is an  OTR  over the road trucker   Very Impressed with the shipping time  it arrived a few days earlier than expected     within a week of use however it started freezing up    could of just been a glitch in that unit   Worked great when it worked   Will work great for the normal person as well but does have the  trucker  option   the big truck routes   tells you when a scale is coming up ect      Love the bigger screen  the ease of use  the ease of putting addresses into memory   Nothing really bad to say about the unit with the exception of it freezing which is probably one in a million and that s just my luck   I contacted the seller and within minutes of my email I received a email back with instructions for an exchange  VERY impressed all the way around \n"
          ]
        }
      ]
    },
    {
      "cell_type": "markdown",
      "source": [
        "### Lower Case Convertion"
      ],
      "metadata": {
        "id": "0bOjLhLeYBqa"
      },
      "id": "0bOjLhLeYBqa"
    },
    {
      "cell_type": "code",
      "source": [
        "dataset[\"preprocessed\"] = dataset[\"preprocessed\"].str.lower()\n",
        "\n",
        "print(dataset[\"preprocessed\"].iloc[0])"
      ],
      "metadata": {
        "colab": {
          "base_uri": "https://localhost:8080/"
        },
        "id": "euTcVtD5XPwg",
        "outputId": "483dc494-c374-4914-ac32-31efd5c11584"
      },
      "id": "euTcVtD5XPwg",
      "execution_count": 14,
      "outputs": [
        {
          "output_type": "stream",
          "name": "stdout",
          "text": [
            "we got this gps for my husband who is an  otr  over the road trucker   very impressed with the shipping time  it arrived a few days earlier than expected     within a week of use however it started freezing up    could of just been a glitch in that unit   worked great when it worked   will work great for the normal person as well but does have the  trucker  option   the big truck routes   tells you when a scale is coming up ect      love the bigger screen  the ease of use  the ease of putting addresses into memory   nothing really bad to say about the unit with the exception of it freezing which is probably one in a million and that s just my luck   i contacted the seller and within minutes of my email i received a email back with instructions for an exchange  very impressed all the way around \n"
          ]
        }
      ]
    },
    {
      "cell_type": "markdown",
      "source": [
        "### Stop Words Removal"
      ],
      "metadata": {
        "id": "imbiH3uEYY2H"
      },
      "id": "imbiH3uEYY2H"
    },
    {
      "cell_type": "code",
      "source": [
        "import nltk\n",
        "nltk.download('stopwords')\n",
        "\n",
        "from nltk.corpus import stopwords\n",
        "\n",
        "stop_words = stopwords.words(\"english\")\n",
        "\n",
        "stop_words = [word.replace(\"\\'\", \"\") for word in stop_words]\n",
        "\n",
        "print(f\"sample stop words: {stop_words[:15]} \\n\")\n",
        "\n",
        "remove_stop_words = lambda row: \" \".join([token for token in row.split(\" \") \\\n",
        "                                          if token not in stop_words])\n",
        "dataset[\"preprocessed\"] = dataset[\"preprocessed\"].apply(remove_stop_words)\n",
        "\n",
        "print(dataset[\"preprocessed\"].iloc[0])"
      ],
      "metadata": {
        "colab": {
          "base_uri": "https://localhost:8080/"
        },
        "id": "iWeJBRVoXPy8",
        "outputId": "6bfeba8d-894c-4419-e231-3c310421f98e"
      },
      "id": "iWeJBRVoXPy8",
      "execution_count": 15,
      "outputs": [
        {
          "output_type": "stream",
          "name": "stdout",
          "text": [
            "sample stop words: ['i', 'me', 'my', 'myself', 'we', 'our', 'ours', 'ourselves', 'you', 'youre', 'youve', 'youll', 'youd', 'your', 'yours'] \n",
            "\n"
          ]
        },
        {
          "output_type": "stream",
          "name": "stderr",
          "text": [
            "[nltk_data] Downloading package stopwords to /root/nltk_data...\n",
            "[nltk_data]   Package stopwords is already up-to-date!\n"
          ]
        },
        {
          "output_type": "stream",
          "name": "stdout",
          "text": [
            "got gps husband  otr  road trucker   impressed shipping time  arrived days earlier expected     within week use however started freezing    could glitch unit   worked great worked   work great normal person well  trucker  option   big truck routes   tells scale coming ect      love bigger screen  ease use  ease putting addresses memory   nothing really bad say unit exception freezing probably one million luck   contacted seller within minutes email received email back instructions exchange  impressed way around \n"
          ]
        }
      ]
    },
    {
      "cell_type": "markdown",
      "source": [
        "### Extra Space Removal"
      ],
      "metadata": {
        "id": "dGOQsaeiZMsg"
      },
      "id": "dGOQsaeiZMsg"
    },
    {
      "cell_type": "code",
      "source": [
        "pattern = r\"[\\s]+\"\n",
        "\n",
        "dataset[\"preprocessed\"] = dataset[\"preprocessed\"].str.replace(pat=pattern, repl=\" \", regex=True)\n",
        "\n",
        "print(dataset[\"preprocessed\"].iloc[0])"
      ],
      "metadata": {
        "colab": {
          "base_uri": "https://localhost:8080/"
        },
        "id": "4oZnEis6WGuV",
        "outputId": "2c61e297-079c-4f2a-b67d-236d8cc14f42"
      },
      "id": "4oZnEis6WGuV",
      "execution_count": 16,
      "outputs": [
        {
          "output_type": "stream",
          "name": "stdout",
          "text": [
            "got gps husband otr road trucker impressed shipping time arrived days earlier expected within week use however started freezing could glitch unit worked great worked work great normal person well trucker option big truck routes tells scale coming ect love bigger screen ease use ease putting addresses memory nothing really bad say unit exception freezing probably one million luck contacted seller within minutes email received email back instructions exchange impressed way around \n"
          ]
        }
      ]
    },
    {
      "cell_type": "markdown",
      "source": [
        "# Tokenization"
      ],
      "metadata": {
        "id": "uoescHgBZVK3"
      },
      "id": "uoescHgBZVK3"
    },
    {
      "cell_type": "code",
      "source": [
        "#@title Default title text\n",
        "corpora = dataset[\"preprocessed\"].values\n",
        "tokenized = [corpus.split(\" \") for corpus in corpora]\n",
        "\n",
        "print(tokenized[0])"
      ],
      "metadata": {
        "colab": {
          "base_uri": "https://localhost:8080/"
        },
        "id": "GUIVzBA6YfFe",
        "outputId": "5538b6af-0c92-4edc-a369-16e5d9bcfcbf"
      },
      "id": "GUIVzBA6YfFe",
      "execution_count": 17,
      "outputs": [
        {
          "output_type": "stream",
          "name": "stdout",
          "text": [
            "['got', 'gps', 'husband', 'otr', 'road', 'trucker', 'impressed', 'shipping', 'time', 'arrived', 'days', 'earlier', 'expected', 'within', 'week', 'use', 'however', 'started', 'freezing', 'could', 'glitch', 'unit', 'worked', 'great', 'worked', 'work', 'great', 'normal', 'person', 'well', 'trucker', 'option', 'big', 'truck', 'routes', 'tells', 'scale', 'coming', 'ect', 'love', 'bigger', 'screen', 'ease', 'use', 'ease', 'putting', 'addresses', 'memory', 'nothing', 'really', 'bad', 'say', 'unit', 'exception', 'freezing', 'probably', 'one', 'million', 'luck', 'contacted', 'seller', 'within', 'minutes', 'email', 'received', 'email', 'back', 'instructions', 'exchange', 'impressed', 'way', 'around', '']\n"
          ]
        }
      ]
    },
    {
      "cell_type": "markdown",
      "source": [
        "# Phrase Modeling"
      ],
      "metadata": {
        "id": "KRY68BY7isXm"
      },
      "id": "KRY68BY7isXm"
    },
    {
      "cell_type": "code",
      "source": [
        "import numpy as np\n",
        "from gensim.models import Phrases\n",
        "from gensim.models.phrases import Phraser\n",
        "\n",
        "bi_gram = Phrases(tokenized, min_count=300, threshold=50)\n",
        "\n",
        "tri_gram = Phrases(bi_gram[tokenized], min_count=300, threshold=50)"
      ],
      "metadata": {
        "id": "pdpjMNMvYfIH"
      },
      "id": "pdpjMNMvYfIH",
      "execution_count": 18,
      "outputs": []
    },
    {
      "cell_type": "code",
      "source": [
        "uni_gram_tokens = set([token for text in tokenized for token in text])\n",
        "uni_gram_tokens = set(filter(lambda x: x != \"\", uni_gram_tokens))\n",
        "\n",
        "print(list(uni_gram_tokens)[:50])"
      ],
      "metadata": {
        "colab": {
          "base_uri": "https://localhost:8080/"
        },
        "id": "P5NmWL28YfKp",
        "outputId": "09be6599-8577-4a5a-e893-75c41428a0fe"
      },
      "id": "P5NmWL28YfKp",
      "execution_count": 19,
      "outputs": [
        {
          "output_type": "stream",
          "name": "stdout",
          "text": [
            "['tdks', 'picks', '____________________________________________________i', 'prossee', 'reasonalbly', '40fti', 'mbp7000', 'pessado', '000143on', 'myselfat', 'ssdkingston', 'chuggy', '1748x1181', '72dbm', 'misrepresent', 'klipche', 'timevarious', 'severally', 'reminstalled', '323i', 'degreeother', '1162', 'computer4', 'deformity', 'greathas', 'smootherfull', 'anandtechreview', 'soap2', 'inatechdotcom', 'scu', 'dot1q', 'fotogrfi', '210bt', 'deepak', 'wonf', 'speedone', 'parabrisas', '110vnot', 'withsomesubjects', 'goliathus', 'l9i', 'freevo', 'systeam', 'superddeal', 'cp45', 'gamesbut', 'b00e9qdp0i', 'funkiness', 'mastto', 'part2']\n"
          ]
        }
      ]
    },
    {
      "cell_type": "code",
      "source": [
        "bigram_min = bi_gram.min_count\n",
        "\n",
        "bi_condition = lambda x: x[1] >= bigram_min\n",
        "\n",
        "bi_gram_tokens = dict(filter(bi_condition, bi_gram.vocab.items()))\n",
        "bi_gram_tokens = set([str(token) \\\n",
        "                      for token in bi_gram_tokens])\n",
        "\n",
        "bi_grams_only = bi_gram_tokens.difference(uni_gram_tokens)\n",
        "print(list(bi_grams_only)[:50])"
      ],
      "metadata": {
        "colab": {
          "base_uri": "https://localhost:8080/"
        },
        "id": "E4t9qDkCj0-9",
        "outputId": "04bc7c4b-7d96-46d4-8500-091a2df81b71"
      },
      "id": "E4t9qDkCj0-9",
      "execution_count": 20,
      "outputs": [
        {
          "output_type": "stream",
          "name": "stdout",
          "text": [
            "['', 'bag_really', '2_yrs', 'price_bad', 'box_store', 'big_mistake', 'thing_may', 'came_close', 'really_poor', 'great_packaging', 'people_already', 'well_defined', 'reviews_said', 'case_little', 'one_mac', 'sdhc_flash', 'much_heat', 'used_garmin', 'early_adopter', 'flash_based', '15_inch', 'always_look', 'receiver_also', 'works_way', 'system_makes', 'images_look', 'iphone_android', 'thought_might', 'easy_simple', 'thank_god', 'five_minutes', 'new_home', 'fairly_compact', 'great_fact', 'way_could', 'take_nice', 'two_year', 'usb_extension', 'extra_', 'problem_one', 'company_website', 'much_powerful', 'expected_works', 'smooth_surface', 'never_disappointed', 'make_new', 'pros_works', 'close_one', 'tv_plugged', 'made_things']\n"
          ]
        }
      ]
    },
    {
      "cell_type": "code",
      "source": [
        "trigram_min = tri_gram.min_count\n",
        "\n",
        "tri_condition = lambda x: x[1] >= trigram_min\n",
        "\n",
        "tri_gram_tokens = dict(filter(tri_condition, tri_gram.vocab.items()))\n",
        "tri_gram_tokens = set([str(token) \\\n",
        "                       for token in tri_gram_tokens])\n",
        "\n",
        "tri_grams_only = tri_gram_tokens.difference(bi_gram_tokens)\n",
        "print(list(tri_grams_only)[:50])"
      ],
      "metadata": {
        "colab": {
          "base_uri": "https://localhost:8080/"
        },
        "id": "WdzUhtklj1Bv",
        "outputId": "ad111c63-7ced-4c2c-dbd7-143b018d912e"
      },
      "id": "WdzUhtklj1Bv",
      "execution_count": 21,
      "outputs": [
        {
          "output_type": "stream",
          "name": "stdout",
          "text": [
            "['one_star_rating', 'highly_recommend_one', 'bottom_line_good', 'switching_back_forth', 'gopro_hero_3', 'ie_utf8_psc', 'samsung_galaxy_s4', 'sleep_wake_function', 'lg_blu_ray', '45_degree_angle', 'new_kindle_fire', 'audio_technica_ath', '4_pin_molex', 'optical_image_stabilization', 'customer_service_great', '2_aaa_batteries', 'frames_per_second', 'wide_angle_zoom', 'windows_media_center', 'sleep_wake_feature', 'phone_mp3_player', '70_200mm_f', 'mac_os_x', '70_200_f', 'highly_recommend_product', 'samsung_galaxy_tab', 'samsung_galaxy_note', 'going_back_forth', 'use_macbook_pro', 'built_wi_fi', 'com_gp_product', '15_macbook_pro', 'cooler_master_haf', 'micro_sd_card', 'otterbox_defender_case', 'use_aa_batteries', 'home_theatre_system', 'buttons_scroll_wheel', 'still_highly_recommend', 'blu_ray_discs', 'macbook_air_13', 'amazon_return_policy', 'bottom_line_great', 'overall_highly_recommend', 'new_blu_ray', 'dvd_blu_ray', 'macbook_pro_15', 'day_return_policy', 'apple_airport_express', 'micro_four_thirds']\n"
          ]
        }
      ]
    },
    {
      "cell_type": "markdown",
      "source": [
        "F T"
      ],
      "metadata": {
        "id": "T9mIK-0ClXaL"
      },
      "id": "T9mIK-0ClXaL"
    },
    {
      "cell_type": "code",
      "source": [
        "tokenized = [list(filter(lambda x: len(x) > 1, document)) \\\n",
        "             for document in tokenized]\n",
        "\n",
        "print(tokenized[0])"
      ],
      "metadata": {
        "colab": {
          "base_uri": "https://localhost:8080/"
        },
        "id": "tdpJLD7QYfNP",
        "outputId": "16cfc9c9-4b24-452c-c492-e070970a5632"
      },
      "id": "tdpJLD7QYfNP",
      "execution_count": 22,
      "outputs": [
        {
          "output_type": "stream",
          "name": "stdout",
          "text": [
            "['got', 'gps', 'husband', 'otr', 'road', 'trucker', 'impressed', 'shipping', 'time', 'arrived', 'days', 'earlier', 'expected', 'within', 'week', 'use', 'however', 'started', 'freezing', 'could', 'glitch', 'unit', 'worked', 'great', 'worked', 'work', 'great', 'normal', 'person', 'well', 'trucker', 'option', 'big', 'truck', 'routes', 'tells', 'scale', 'coming', 'ect', 'love', 'bigger', 'screen', 'ease', 'use', 'ease', 'putting', 'addresses', 'memory', 'nothing', 'really', 'bad', 'say', 'unit', 'exception', 'freezing', 'probably', 'one', 'million', 'luck', 'contacted', 'seller', 'within', 'minutes', 'email', 'received', 'email', 'back', 'instructions', 'exchange', 'impressed', 'way', 'around']\n"
          ]
        }
      ]
    },
    {
      "cell_type": "markdown",
      "source": [
        "create voc"
      ],
      "metadata": {
        "id": "IJXdnePmmFAr"
      },
      "id": "IJXdnePmmFAr"
    },
    {
      "cell_type": "code",
      "source": [
        "from gensim.corpora.dictionary import Dictionary\n",
        "\n",
        "vocabulary = Dictionary(tokenized)\n",
        "\n",
        "vocabulary_keys = list(vocabulary.token2id)[0:10]\n",
        "\n",
        "for key in vocabulary_keys:\n",
        "    print(f\"ID: {vocabulary.token2id[key]}, Token: {key}\")"
      ],
      "metadata": {
        "colab": {
          "base_uri": "https://localhost:8080/"
        },
        "id": "XI1OrrVZYfRj",
        "outputId": "6129720f-00b9-42ed-9462-dd9fa9ab32ed"
      },
      "id": "XI1OrrVZYfRj",
      "execution_count": 23,
      "outputs": [
        {
          "output_type": "stream",
          "name": "stdout",
          "text": [
            "ID: 0, Token: addresses\n",
            "ID: 1, Token: around\n",
            "ID: 2, Token: arrived\n",
            "ID: 3, Token: back\n",
            "ID: 4, Token: bad\n",
            "ID: 5, Token: big\n",
            "ID: 6, Token: bigger\n",
            "ID: 7, Token: coming\n",
            "ID: 8, Token: contacted\n",
            "ID: 9, Token: could\n"
          ]
        }
      ]
    },
    {
      "cell_type": "markdown",
      "source": [
        "B og W"
      ],
      "metadata": {
        "id": "kRnIGufjnLSk"
      },
      "id": "kRnIGufjnLSk"
    },
    {
      "cell_type": "code",
      "source": [
        "bow = [vocabulary.doc2bow(doc) for doc in tokenized]\n",
        "\n",
        "for idx, freq in bow[0]:\n",
        "    print(f\"Word: {vocabulary.get(idx)}, Frequency: {freq}\")"
      ],
      "metadata": {
        "colab": {
          "base_uri": "https://localhost:8080/"
        },
        "id": "zj9X_qhYmBXl",
        "outputId": "4afb3bb9-bad7-4dc1-891c-7984b5772caa"
      },
      "id": "zj9X_qhYmBXl",
      "execution_count": 24,
      "outputs": [
        {
          "output_type": "stream",
          "name": "stdout",
          "text": [
            "Word: addresses, Frequency: 1\n",
            "Word: around, Frequency: 1\n",
            "Word: arrived, Frequency: 1\n",
            "Word: back, Frequency: 1\n",
            "Word: bad, Frequency: 1\n",
            "Word: big, Frequency: 1\n",
            "Word: bigger, Frequency: 1\n",
            "Word: coming, Frequency: 1\n",
            "Word: contacted, Frequency: 1\n",
            "Word: could, Frequency: 1\n",
            "Word: days, Frequency: 1\n",
            "Word: earlier, Frequency: 1\n",
            "Word: ease, Frequency: 2\n",
            "Word: ect, Frequency: 1\n",
            "Word: email, Frequency: 2\n",
            "Word: exception, Frequency: 1\n",
            "Word: exchange, Frequency: 1\n",
            "Word: expected, Frequency: 1\n",
            "Word: freezing, Frequency: 2\n",
            "Word: glitch, Frequency: 1\n",
            "Word: got, Frequency: 1\n",
            "Word: gps, Frequency: 1\n",
            "Word: great, Frequency: 2\n",
            "Word: however, Frequency: 1\n",
            "Word: husband, Frequency: 1\n",
            "Word: impressed, Frequency: 2\n",
            "Word: instructions, Frequency: 1\n",
            "Word: love, Frequency: 1\n",
            "Word: luck, Frequency: 1\n",
            "Word: memory, Frequency: 1\n",
            "Word: million, Frequency: 1\n",
            "Word: minutes, Frequency: 1\n",
            "Word: normal, Frequency: 1\n",
            "Word: nothing, Frequency: 1\n",
            "Word: one, Frequency: 1\n",
            "Word: option, Frequency: 1\n",
            "Word: otr, Frequency: 1\n",
            "Word: person, Frequency: 1\n",
            "Word: probably, Frequency: 1\n",
            "Word: putting, Frequency: 1\n",
            "Word: really, Frequency: 1\n",
            "Word: received, Frequency: 1\n",
            "Word: road, Frequency: 1\n",
            "Word: routes, Frequency: 1\n",
            "Word: say, Frequency: 1\n",
            "Word: scale, Frequency: 1\n",
            "Word: screen, Frequency: 1\n",
            "Word: seller, Frequency: 1\n",
            "Word: shipping, Frequency: 1\n",
            "Word: started, Frequency: 1\n",
            "Word: tells, Frequency: 1\n",
            "Word: time, Frequency: 1\n",
            "Word: truck, Frequency: 1\n",
            "Word: trucker, Frequency: 2\n",
            "Word: unit, Frequency: 2\n",
            "Word: use, Frequency: 2\n",
            "Word: way, Frequency: 1\n",
            "Word: week, Frequency: 1\n",
            "Word: well, Frequency: 1\n",
            "Word: within, Frequency: 2\n",
            "Word: work, Frequency: 1\n",
            "Word: worked, Frequency: 2\n"
          ]
        }
      ]
    },
    {
      "cell_type": "markdown",
      "source": [
        "### TF-IDF Model"
      ],
      "metadata": {
        "id": "UQwQ5AnJnMuW"
      },
      "id": "UQwQ5AnJnMuW"
    },
    {
      "cell_type": "code",
      "source": [
        "from gensim.models.tfidfmodel import TfidfModel\n",
        "\n",
        "tfidf = TfidfModel(bow)\n",
        "\n",
        "for idx, weight in tfidf[bow[0]]:\n",
        "    print(f\"Word: {vocabulary.get(idx)}, Weight: {weight:.3f}\")"
      ],
      "metadata": {
        "colab": {
          "base_uri": "https://localhost:8080/"
        },
        "id": "98dVXAKvmBaa",
        "outputId": "fb7fff26-cef4-4bad-9267-1bdfc7d1301d"
      },
      "id": "98dVXAKvmBaa",
      "execution_count": 25,
      "outputs": [
        {
          "output_type": "stream",
          "name": "stdout",
          "text": [
            "Word: addresses, Weight: 0.144\n",
            "Word: around, Weight: 0.056\n",
            "Word: arrived, Weight: 0.088\n",
            "Word: back, Weight: 0.049\n",
            "Word: bad, Weight: 0.068\n",
            "Word: big, Weight: 0.065\n",
            "Word: bigger, Weight: 0.097\n",
            "Word: coming, Weight: 0.096\n",
            "Word: contacted, Weight: 0.117\n",
            "Word: could, Weight: 0.050\n",
            "Word: days, Weight: 0.075\n",
            "Word: earlier, Weight: 0.116\n",
            "Word: ease, Weight: 0.207\n",
            "Word: ect, Weight: 0.170\n",
            "Word: email, Weight: 0.213\n",
            "Word: exception, Weight: 0.125\n",
            "Word: exchange, Weight: 0.131\n",
            "Word: expected, Weight: 0.079\n",
            "Word: freezing, Weight: 0.298\n",
            "Word: glitch, Weight: 0.146\n",
            "Word: got, Weight: 0.050\n",
            "Word: gps, Weight: 0.096\n",
            "Word: great, Weight: 0.056\n",
            "Word: however, Weight: 0.060\n",
            "Word: husband, Weight: 0.119\n",
            "Word: impressed, Weight: 0.182\n",
            "Word: instructions, Weight: 0.087\n",
            "Word: love, Weight: 0.058\n",
            "Word: luck, Weight: 0.107\n",
            "Word: memory, Weight: 0.079\n",
            "Word: million, Weight: 0.154\n",
            "Word: minutes, Weight: 0.078\n",
            "Word: normal, Weight: 0.093\n",
            "Word: nothing, Weight: 0.075\n",
            "Word: one, Weight: 0.028\n",
            "Word: option, Weight: 0.087\n",
            "Word: otr, Weight: 0.248\n",
            "Word: person, Weight: 0.099\n",
            "Word: probably, Weight: 0.071\n",
            "Word: putting, Weight: 0.101\n",
            "Word: really, Weight: 0.043\n",
            "Word: received, Weight: 0.080\n",
            "Word: road, Weight: 0.109\n",
            "Word: routes, Weight: 0.152\n",
            "Word: say, Weight: 0.059\n",
            "Word: scale, Weight: 0.145\n",
            "Word: screen, Weight: 0.056\n",
            "Word: seller, Weight: 0.106\n",
            "Word: shipping, Weight: 0.088\n",
            "Word: started, Weight: 0.086\n",
            "Word: tells, Weight: 0.129\n",
            "Word: time, Weight: 0.042\n",
            "Word: truck, Weight: 0.135\n",
            "Word: trucker, Weight: 0.440\n",
            "Word: unit, Weight: 0.123\n",
            "Word: use, Weight: 0.058\n",
            "Word: way, Weight: 0.053\n",
            "Word: week, Weight: 0.087\n",
            "Word: well, Weight: 0.033\n",
            "Word: within, Weight: 0.176\n",
            "Word: work, Weight: 0.042\n",
            "Word: worked, Weight: 0.119\n"
          ]
        }
      ]
    },
    {
      "cell_type": "code",
      "source": [
        "%%time\n",
        "import numpy as np\n",
        "!pip install -U gensim\n",
        "\n",
        "\n",
        "from gensim.models import word2vec\n",
        "\n",
        "np.set_printoptions(suppress=True)\n",
        "\n",
        "feature_size=100\n",
        "context_size=20\n",
        "min_word=1\n",
        "\n",
        "word_vec = word2vec.Word2Vec(tokenized, window=context_size, min_count=min_word, seed=42)"
      ],
      "metadata": {
        "colab": {
          "base_uri": "https://localhost:8080/"
        },
        "id": "w2VKNbaUmBc7",
        "outputId": "315c2fa9-b478-4ad7-9d37-f98861528c7e"
      },
      "id": "w2VKNbaUmBc7",
      "execution_count": 53,
      "outputs": [
        {
          "output_type": "stream",
          "name": "stdout",
          "text": [
            "Requirement already satisfied: gensim in /usr/local/lib/python3.10/dist-packages (4.3.1)\n",
            "Requirement already satisfied: numpy>=1.18.5 in /usr/local/lib/python3.10/dist-packages (from gensim) (1.22.4)\n",
            "Requirement already satisfied: scipy>=1.7.0 in /usr/local/lib/python3.10/dist-packages (from gensim) (1.10.1)\n",
            "Requirement already satisfied: smart-open>=1.8.1 in /usr/local/lib/python3.10/dist-packages (from gensim) (6.3.0)\n",
            "CPU times: user 29min 6s, sys: 6.9 s, total: 29min 13s\n",
            "Wall time: 10min 17s\n"
          ]
        }
      ]
    },
    {
      "cell_type": "markdown",
      "source": [
        "# Final Dataframe"
      ],
      "metadata": {
        "id": "d2K4-Qw4qjCR"
      },
      "id": "d2K4-Qw4qjCR"
    },
    {
      "cell_type": "code",
      "source": [
        "import gensim\n",
        "\n",
        "word_vec_df = pd.DataFrame(word_vec.wv.vectors[indexes, :], index=tokens)\n",
        "\n",
        "display(word_vec_df.head())"
      ],
      "metadata": {
        "colab": {
          "base_uri": "https://localhost:8080/",
          "height": 300
        },
        "id": "-exw7Dl3_243",
        "outputId": "30b0ca46-064f-41f9-a4ce-276860ce7d74"
      },
      "id": "-exw7Dl3_243",
      "execution_count": 72,
      "outputs": [
        {
          "output_type": "display_data",
          "data": {
            "text/plain": [
              "             0         1         2         3         4         5         6   \\\n",
              "one   -0.082418  3.525961 -1.717424  1.146204 -1.287166 -0.932160  0.112657   \n",
              "use    3.221728 -0.531962  4.736081 -1.520156  3.591342 -4.136058 -2.595927   \n",
              "great  4.841736 -2.247449 -0.797888  4.671414  3.242879  2.283886  0.077129   \n",
              "good   2.047477 -2.954397 -3.698627  5.398714  3.273110 -0.906994 -0.102654   \n",
              "like   0.552658  4.135051 -0.901694  4.920330  1.738944 -1.017274 -0.702835   \n",
              "\n",
              "             7         8         9   ...        90        91        92  \\\n",
              "one    3.562047  0.574281 -1.744275  ... -0.343469 -3.459622  2.813193   \n",
              "use   -2.109843  4.263809 -2.049584  ...  3.519892 -2.598760 -1.441925   \n",
              "great  0.718292 -0.131769 -5.978518  ...  3.043566 -2.032717 -1.206938   \n",
              "good   0.559477  0.718684 -1.721384  ...  2.925399 -1.797884 -1.069584   \n",
              "like  -1.329154 -1.211573 -1.223770  ...  0.874261 -4.482446  1.103419   \n",
              "\n",
              "             93        94        95        96        97        98        99  \n",
              "one    0.504350  1.900939  2.423230 -2.658751  0.271643 -0.588602  0.133066  \n",
              "use   -0.521576 -0.159160  0.879915 -1.994122 -0.020223 -2.567523 -0.790279  \n",
              "great -2.028542 -0.368671 -0.258479  0.230536 -2.726553  2.544090  1.823652  \n",
              "good  -1.633000  1.429628 -1.977739 -3.257591 -2.153660 -0.151556  2.636888  \n",
              "like  -3.682267 -0.023973  0.351324 -4.098979  0.573763 -1.622842  1.766031  \n",
              "\n",
              "[5 rows x 100 columns]"
            ],
            "text/html": [
              "\n",
              "\n",
              "  <div id=\"df-b911b0dd-91ba-45d7-bc7c-3af7caedbd19\">\n",
              "    <div class=\"colab-df-container\">\n",
              "      <div>\n",
              "<style scoped>\n",
              "    .dataframe tbody tr th:only-of-type {\n",
              "        vertical-align: middle;\n",
              "    }\n",
              "\n",
              "    .dataframe tbody tr th {\n",
              "        vertical-align: top;\n",
              "    }\n",
              "\n",
              "    .dataframe thead th {\n",
              "        text-align: right;\n",
              "    }\n",
              "</style>\n",
              "<table border=\"1\" class=\"dataframe\">\n",
              "  <thead>\n",
              "    <tr style=\"text-align: right;\">\n",
              "      <th></th>\n",
              "      <th>0</th>\n",
              "      <th>1</th>\n",
              "      <th>2</th>\n",
              "      <th>3</th>\n",
              "      <th>4</th>\n",
              "      <th>5</th>\n",
              "      <th>6</th>\n",
              "      <th>7</th>\n",
              "      <th>8</th>\n",
              "      <th>9</th>\n",
              "      <th>...</th>\n",
              "      <th>90</th>\n",
              "      <th>91</th>\n",
              "      <th>92</th>\n",
              "      <th>93</th>\n",
              "      <th>94</th>\n",
              "      <th>95</th>\n",
              "      <th>96</th>\n",
              "      <th>97</th>\n",
              "      <th>98</th>\n",
              "      <th>99</th>\n",
              "    </tr>\n",
              "  </thead>\n",
              "  <tbody>\n",
              "    <tr>\n",
              "      <th>one</th>\n",
              "      <td>-0.082418</td>\n",
              "      <td>3.525961</td>\n",
              "      <td>-1.717424</td>\n",
              "      <td>1.146204</td>\n",
              "      <td>-1.287166</td>\n",
              "      <td>-0.932160</td>\n",
              "      <td>0.112657</td>\n",
              "      <td>3.562047</td>\n",
              "      <td>0.574281</td>\n",
              "      <td>-1.744275</td>\n",
              "      <td>...</td>\n",
              "      <td>-0.343469</td>\n",
              "      <td>-3.459622</td>\n",
              "      <td>2.813193</td>\n",
              "      <td>0.504350</td>\n",
              "      <td>1.900939</td>\n",
              "      <td>2.423230</td>\n",
              "      <td>-2.658751</td>\n",
              "      <td>0.271643</td>\n",
              "      <td>-0.588602</td>\n",
              "      <td>0.133066</td>\n",
              "    </tr>\n",
              "    <tr>\n",
              "      <th>use</th>\n",
              "      <td>3.221728</td>\n",
              "      <td>-0.531962</td>\n",
              "      <td>4.736081</td>\n",
              "      <td>-1.520156</td>\n",
              "      <td>3.591342</td>\n",
              "      <td>-4.136058</td>\n",
              "      <td>-2.595927</td>\n",
              "      <td>-2.109843</td>\n",
              "      <td>4.263809</td>\n",
              "      <td>-2.049584</td>\n",
              "      <td>...</td>\n",
              "      <td>3.519892</td>\n",
              "      <td>-2.598760</td>\n",
              "      <td>-1.441925</td>\n",
              "      <td>-0.521576</td>\n",
              "      <td>-0.159160</td>\n",
              "      <td>0.879915</td>\n",
              "      <td>-1.994122</td>\n",
              "      <td>-0.020223</td>\n",
              "      <td>-2.567523</td>\n",
              "      <td>-0.790279</td>\n",
              "    </tr>\n",
              "    <tr>\n",
              "      <th>great</th>\n",
              "      <td>4.841736</td>\n",
              "      <td>-2.247449</td>\n",
              "      <td>-0.797888</td>\n",
              "      <td>4.671414</td>\n",
              "      <td>3.242879</td>\n",
              "      <td>2.283886</td>\n",
              "      <td>0.077129</td>\n",
              "      <td>0.718292</td>\n",
              "      <td>-0.131769</td>\n",
              "      <td>-5.978518</td>\n",
              "      <td>...</td>\n",
              "      <td>3.043566</td>\n",
              "      <td>-2.032717</td>\n",
              "      <td>-1.206938</td>\n",
              "      <td>-2.028542</td>\n",
              "      <td>-0.368671</td>\n",
              "      <td>-0.258479</td>\n",
              "      <td>0.230536</td>\n",
              "      <td>-2.726553</td>\n",
              "      <td>2.544090</td>\n",
              "      <td>1.823652</td>\n",
              "    </tr>\n",
              "    <tr>\n",
              "      <th>good</th>\n",
              "      <td>2.047477</td>\n",
              "      <td>-2.954397</td>\n",
              "      <td>-3.698627</td>\n",
              "      <td>5.398714</td>\n",
              "      <td>3.273110</td>\n",
              "      <td>-0.906994</td>\n",
              "      <td>-0.102654</td>\n",
              "      <td>0.559477</td>\n",
              "      <td>0.718684</td>\n",
              "      <td>-1.721384</td>\n",
              "      <td>...</td>\n",
              "      <td>2.925399</td>\n",
              "      <td>-1.797884</td>\n",
              "      <td>-1.069584</td>\n",
              "      <td>-1.633000</td>\n",
              "      <td>1.429628</td>\n",
              "      <td>-1.977739</td>\n",
              "      <td>-3.257591</td>\n",
              "      <td>-2.153660</td>\n",
              "      <td>-0.151556</td>\n",
              "      <td>2.636888</td>\n",
              "    </tr>\n",
              "    <tr>\n",
              "      <th>like</th>\n",
              "      <td>0.552658</td>\n",
              "      <td>4.135051</td>\n",
              "      <td>-0.901694</td>\n",
              "      <td>4.920330</td>\n",
              "      <td>1.738944</td>\n",
              "      <td>-1.017274</td>\n",
              "      <td>-0.702835</td>\n",
              "      <td>-1.329154</td>\n",
              "      <td>-1.211573</td>\n",
              "      <td>-1.223770</td>\n",
              "      <td>...</td>\n",
              "      <td>0.874261</td>\n",
              "      <td>-4.482446</td>\n",
              "      <td>1.103419</td>\n",
              "      <td>-3.682267</td>\n",
              "      <td>-0.023973</td>\n",
              "      <td>0.351324</td>\n",
              "      <td>-4.098979</td>\n",
              "      <td>0.573763</td>\n",
              "      <td>-1.622842</td>\n",
              "      <td>1.766031</td>\n",
              "    </tr>\n",
              "  </tbody>\n",
              "</table>\n",
              "<p>5 rows × 100 columns</p>\n",
              "</div>\n",
              "      <button class=\"colab-df-convert\" onclick=\"convertToInteractive('df-b911b0dd-91ba-45d7-bc7c-3af7caedbd19')\"\n",
              "              title=\"Convert this dataframe to an interactive table.\"\n",
              "              style=\"display:none;\">\n",
              "\n",
              "  <svg xmlns=\"http://www.w3.org/2000/svg\" height=\"24px\"viewBox=\"0 0 24 24\"\n",
              "       width=\"24px\">\n",
              "    <path d=\"M0 0h24v24H0V0z\" fill=\"none\"/>\n",
              "    <path d=\"M18.56 5.44l.94 2.06.94-2.06 2.06-.94-2.06-.94-.94-2.06-.94 2.06-2.06.94zm-11 1L8.5 8.5l.94-2.06 2.06-.94-2.06-.94L8.5 2.5l-.94 2.06-2.06.94zm10 10l.94 2.06.94-2.06 2.06-.94-2.06-.94-.94-2.06-.94 2.06-2.06.94z\"/><path d=\"M17.41 7.96l-1.37-1.37c-.4-.4-.92-.59-1.43-.59-.52 0-1.04.2-1.43.59L10.3 9.45l-7.72 7.72c-.78.78-.78 2.05 0 2.83L4 21.41c.39.39.9.59 1.41.59.51 0 1.02-.2 1.41-.59l7.78-7.78 2.81-2.81c.8-.78.8-2.07 0-2.86zM5.41 20L4 18.59l7.72-7.72 1.47 1.35L5.41 20z\"/>\n",
              "  </svg>\n",
              "      </button>\n",
              "\n",
              "\n",
              "\n",
              "    <div id=\"df-923abf58-98c9-43e0-8f08-b67da0763375\">\n",
              "      <button class=\"colab-df-quickchart\" onclick=\"quickchart('df-923abf58-98c9-43e0-8f08-b67da0763375')\"\n",
              "              title=\"Suggest charts.\"\n",
              "              style=\"display:none;\">\n",
              "\n",
              "<svg xmlns=\"http://www.w3.org/2000/svg\" height=\"24px\"viewBox=\"0 0 24 24\"\n",
              "     width=\"24px\">\n",
              "    <g>\n",
              "        <path d=\"M19 3H5c-1.1 0-2 .9-2 2v14c0 1.1.9 2 2 2h14c1.1 0 2-.9 2-2V5c0-1.1-.9-2-2-2zM9 17H7v-7h2v7zm4 0h-2V7h2v10zm4 0h-2v-4h2v4z\"/>\n",
              "    </g>\n",
              "</svg>\n",
              "      </button>\n",
              "    </div>\n",
              "\n",
              "<style>\n",
              "  .colab-df-quickchart {\n",
              "    background-color: #E8F0FE;\n",
              "    border: none;\n",
              "    border-radius: 50%;\n",
              "    cursor: pointer;\n",
              "    display: none;\n",
              "    fill: #1967D2;\n",
              "    height: 32px;\n",
              "    padding: 0 0 0 0;\n",
              "    width: 32px;\n",
              "  }\n",
              "\n",
              "  .colab-df-quickchart:hover {\n",
              "    background-color: #E2EBFA;\n",
              "    box-shadow: 0px 1px 2px rgba(60, 64, 67, 0.3), 0px 1px 3px 1px rgba(60, 64, 67, 0.15);\n",
              "    fill: #174EA6;\n",
              "  }\n",
              "\n",
              "  [theme=dark] .colab-df-quickchart {\n",
              "    background-color: #3B4455;\n",
              "    fill: #D2E3FC;\n",
              "  }\n",
              "\n",
              "  [theme=dark] .colab-df-quickchart:hover {\n",
              "    background-color: #434B5C;\n",
              "    box-shadow: 0px 1px 3px 1px rgba(0, 0, 0, 0.15);\n",
              "    filter: drop-shadow(0px 1px 2px rgba(0, 0, 0, 0.3));\n",
              "    fill: #FFFFFF;\n",
              "  }\n",
              "</style>\n",
              "\n",
              "    <script>\n",
              "      async function quickchart(key) {\n",
              "        const containerElement = document.querySelector('#' + key);\n",
              "        const charts = await google.colab.kernel.invokeFunction(\n",
              "            'suggestCharts', [key], {});\n",
              "      }\n",
              "    </script>\n",
              "\n",
              "      <script>\n",
              "\n",
              "function displayQuickchartButton(domScope) {\n",
              "  let quickchartButtonEl =\n",
              "    domScope.querySelector('#df-923abf58-98c9-43e0-8f08-b67da0763375 button.colab-df-quickchart');\n",
              "  quickchartButtonEl.style.display =\n",
              "    google.colab.kernel.accessAllowed ? 'block' : 'none';\n",
              "}\n",
              "\n",
              "        displayQuickchartButton(document);\n",
              "      </script>\n",
              "      <style>\n",
              "    .colab-df-container {\n",
              "      display:flex;\n",
              "      flex-wrap:wrap;\n",
              "      gap: 12px;\n",
              "    }\n",
              "\n",
              "    .colab-df-convert {\n",
              "      background-color: #E8F0FE;\n",
              "      border: none;\n",
              "      border-radius: 50%;\n",
              "      cursor: pointer;\n",
              "      display: none;\n",
              "      fill: #1967D2;\n",
              "      height: 32px;\n",
              "      padding: 0 0 0 0;\n",
              "      width: 32px;\n",
              "    }\n",
              "\n",
              "    .colab-df-convert:hover {\n",
              "      background-color: #E2EBFA;\n",
              "      box-shadow: 0px 1px 2px rgba(60, 64, 67, 0.3), 0px 1px 3px 1px rgba(60, 64, 67, 0.15);\n",
              "      fill: #174EA6;\n",
              "    }\n",
              "\n",
              "    [theme=dark] .colab-df-convert {\n",
              "      background-color: #3B4455;\n",
              "      fill: #D2E3FC;\n",
              "    }\n",
              "\n",
              "    [theme=dark] .colab-df-convert:hover {\n",
              "      background-color: #434B5C;\n",
              "      box-shadow: 0px 1px 3px 1px rgba(0, 0, 0, 0.15);\n",
              "      filter: drop-shadow(0px 1px 2px rgba(0, 0, 0, 0.3));\n",
              "      fill: #FFFFFF;\n",
              "    }\n",
              "  </style>\n",
              "\n",
              "      <script>\n",
              "        const buttonEl =\n",
              "          document.querySelector('#df-b911b0dd-91ba-45d7-bc7c-3af7caedbd19 button.colab-df-convert');\n",
              "        buttonEl.style.display =\n",
              "          google.colab.kernel.accessAllowed ? 'block' : 'none';\n",
              "\n",
              "        async function convertToInteractive(key) {\n",
              "          const element = document.querySelector('#df-b911b0dd-91ba-45d7-bc7c-3af7caedbd19');\n",
              "          const dataTable =\n",
              "            await google.colab.kernel.invokeFunction('convertToInteractive',\n",
              "                                                     [key], {});\n",
              "          if (!dataTable) return;\n",
              "\n",
              "          const docLinkHtml = 'Like what you see? Visit the ' +\n",
              "            '<a target=\"_blank\" href=https://colab.research.google.com/notebooks/data_table.ipynb>data table notebook</a>'\n",
              "            + ' to learn more about interactive tables.';\n",
              "          element.innerHTML = '';\n",
              "          dataTable['output_type'] = 'display_data';\n",
              "          await google.colab.output.renderOutput(dataTable, element);\n",
              "          const docLink = document.createElement('div');\n",
              "          docLink.innerHTML = docLinkHtml;\n",
              "          element.appendChild(docLink);\n",
              "        }\n",
              "      </script>\n",
              "    </div>\n",
              "  </div>\n"
            ]
          },
          "metadata": {}
        }
      ]
    },
    {
      "cell_type": "code",
      "source": [
        "%%time\n",
        "tokenized_array = np.array(tokenized)\n",
        "\n",
        "model_array = np.array([word_vec_df.loc[doc].mean(axis=0) for doc in tokenized_array])"
      ],
      "metadata": {
        "colab": {
          "base_uri": "https://localhost:8080/"
        },
        "id": "FJGeTYbTAvEc",
        "outputId": "8cc670c2-ae38-44be-ce6c-0c02335e180a"
      },
      "id": "FJGeTYbTAvEc",
      "execution_count": 73,
      "outputs": [
        {
          "output_type": "stream",
          "name": "stderr",
          "text": [
            "<timed exec>:1: VisibleDeprecationWarning: Creating an ndarray from ragged nested sequences (which is a list-or-tuple of lists-or-tuples-or ndarrays with different lengths or shapes) is deprecated. If you meant to do this, you must specify 'dtype=object' when creating the ndarray.\n"
          ]
        },
        {
          "output_type": "stream",
          "name": "stdout",
          "text": [
            "CPU times: user 27min 38s, sys: 17.2 s, total: 27min 55s\n",
            "Wall time: 27min 38s\n"
          ]
        }
      ]
    },
    {
      "cell_type": "code",
      "source": [
        "model_df = pd.DataFrame(model_array)\n",
        "model_df[\"label\"] = dataset[\"overall\"]\n",
        "\n",
        "display(model_df.head())"
      ],
      "metadata": {
        "colab": {
          "base_uri": "https://localhost:8080/",
          "height": 300
        },
        "id": "fqrNmf4QAvN8",
        "outputId": "dac79544-7605-4c27-a9af-1d5eb128a0dc"
      },
      "id": "fqrNmf4QAvN8",
      "execution_count": 75,
      "outputs": [
        {
          "output_type": "display_data",
          "data": {
            "text/plain": [
              "          0         1         2         3         4         5         6  \\\n",
              "0  0.150308  0.444738 -0.648721  1.059230  0.334721 -0.254382  0.016438   \n",
              "1  0.061710 -0.333321 -0.854098  1.402136  0.021910 -0.944791 -0.209702   \n",
              "2  0.602401  0.673294 -0.623161  1.047511  0.871702 -1.007385  0.112088   \n",
              "3  0.344810  0.306478 -0.599374  1.534474  0.571874 -0.684029 -0.222131   \n",
              "4  0.534038  0.837122 -1.246899  1.690996  0.277751 -0.546063 -0.167335   \n",
              "\n",
              "          7         8         9  ...        91        92        93        94  \\\n",
              "0  0.089268  0.510795 -0.435560  ... -0.305776  0.764817  0.879145 -0.004304   \n",
              "1  0.267519  0.941326 -0.746154  ... -0.003659  0.415132  1.074351  0.049901   \n",
              "2  1.020214  1.105426 -0.608578  ... -0.196248  0.362837  0.521815 -0.001141   \n",
              "3  0.485350  0.720106 -0.372488  ... -0.166430  0.786437  0.775028  0.262492   \n",
              "4  0.342347  1.273103 -0.773281  ...  0.844210  0.887417  1.244464 -0.310721   \n",
              "\n",
              "         95        96        97        98        99  label  \n",
              "0  0.495970 -0.411745  0.819688 -0.085290  0.156058    5.0  \n",
              "1  1.908018 -0.415883  0.841334 -0.913045 -0.003974    1.0  \n",
              "2  0.393630 -0.838456  0.609265 -0.622438 -0.209990    3.0  \n",
              "3  1.432677 -0.998752  0.850931 -0.143779 -0.272591    2.0  \n",
              "4  1.480248 -0.945146  1.388963 -0.444662 -0.395945    1.0  \n",
              "\n",
              "[5 rows x 101 columns]"
            ],
            "text/html": [
              "\n",
              "\n",
              "  <div id=\"df-3397bad4-26cf-4b07-aec0-b3f84ab1c311\">\n",
              "    <div class=\"colab-df-container\">\n",
              "      <div>\n",
              "<style scoped>\n",
              "    .dataframe tbody tr th:only-of-type {\n",
              "        vertical-align: middle;\n",
              "    }\n",
              "\n",
              "    .dataframe tbody tr th {\n",
              "        vertical-align: top;\n",
              "    }\n",
              "\n",
              "    .dataframe thead th {\n",
              "        text-align: right;\n",
              "    }\n",
              "</style>\n",
              "<table border=\"1\" class=\"dataframe\">\n",
              "  <thead>\n",
              "    <tr style=\"text-align: right;\">\n",
              "      <th></th>\n",
              "      <th>0</th>\n",
              "      <th>1</th>\n",
              "      <th>2</th>\n",
              "      <th>3</th>\n",
              "      <th>4</th>\n",
              "      <th>5</th>\n",
              "      <th>6</th>\n",
              "      <th>7</th>\n",
              "      <th>8</th>\n",
              "      <th>9</th>\n",
              "      <th>...</th>\n",
              "      <th>91</th>\n",
              "      <th>92</th>\n",
              "      <th>93</th>\n",
              "      <th>94</th>\n",
              "      <th>95</th>\n",
              "      <th>96</th>\n",
              "      <th>97</th>\n",
              "      <th>98</th>\n",
              "      <th>99</th>\n",
              "      <th>label</th>\n",
              "    </tr>\n",
              "  </thead>\n",
              "  <tbody>\n",
              "    <tr>\n",
              "      <th>0</th>\n",
              "      <td>0.150308</td>\n",
              "      <td>0.444738</td>\n",
              "      <td>-0.648721</td>\n",
              "      <td>1.059230</td>\n",
              "      <td>0.334721</td>\n",
              "      <td>-0.254382</td>\n",
              "      <td>0.016438</td>\n",
              "      <td>0.089268</td>\n",
              "      <td>0.510795</td>\n",
              "      <td>-0.435560</td>\n",
              "      <td>...</td>\n",
              "      <td>-0.305776</td>\n",
              "      <td>0.764817</td>\n",
              "      <td>0.879145</td>\n",
              "      <td>-0.004304</td>\n",
              "      <td>0.495970</td>\n",
              "      <td>-0.411745</td>\n",
              "      <td>0.819688</td>\n",
              "      <td>-0.085290</td>\n",
              "      <td>0.156058</td>\n",
              "      <td>5.0</td>\n",
              "    </tr>\n",
              "    <tr>\n",
              "      <th>1</th>\n",
              "      <td>0.061710</td>\n",
              "      <td>-0.333321</td>\n",
              "      <td>-0.854098</td>\n",
              "      <td>1.402136</td>\n",
              "      <td>0.021910</td>\n",
              "      <td>-0.944791</td>\n",
              "      <td>-0.209702</td>\n",
              "      <td>0.267519</td>\n",
              "      <td>0.941326</td>\n",
              "      <td>-0.746154</td>\n",
              "      <td>...</td>\n",
              "      <td>-0.003659</td>\n",
              "      <td>0.415132</td>\n",
              "      <td>1.074351</td>\n",
              "      <td>0.049901</td>\n",
              "      <td>1.908018</td>\n",
              "      <td>-0.415883</td>\n",
              "      <td>0.841334</td>\n",
              "      <td>-0.913045</td>\n",
              "      <td>-0.003974</td>\n",
              "      <td>1.0</td>\n",
              "    </tr>\n",
              "    <tr>\n",
              "      <th>2</th>\n",
              "      <td>0.602401</td>\n",
              "      <td>0.673294</td>\n",
              "      <td>-0.623161</td>\n",
              "      <td>1.047511</td>\n",
              "      <td>0.871702</td>\n",
              "      <td>-1.007385</td>\n",
              "      <td>0.112088</td>\n",
              "      <td>1.020214</td>\n",
              "      <td>1.105426</td>\n",
              "      <td>-0.608578</td>\n",
              "      <td>...</td>\n",
              "      <td>-0.196248</td>\n",
              "      <td>0.362837</td>\n",
              "      <td>0.521815</td>\n",
              "      <td>-0.001141</td>\n",
              "      <td>0.393630</td>\n",
              "      <td>-0.838456</td>\n",
              "      <td>0.609265</td>\n",
              "      <td>-0.622438</td>\n",
              "      <td>-0.209990</td>\n",
              "      <td>3.0</td>\n",
              "    </tr>\n",
              "    <tr>\n",
              "      <th>3</th>\n",
              "      <td>0.344810</td>\n",
              "      <td>0.306478</td>\n",
              "      <td>-0.599374</td>\n",
              "      <td>1.534474</td>\n",
              "      <td>0.571874</td>\n",
              "      <td>-0.684029</td>\n",
              "      <td>-0.222131</td>\n",
              "      <td>0.485350</td>\n",
              "      <td>0.720106</td>\n",
              "      <td>-0.372488</td>\n",
              "      <td>...</td>\n",
              "      <td>-0.166430</td>\n",
              "      <td>0.786437</td>\n",
              "      <td>0.775028</td>\n",
              "      <td>0.262492</td>\n",
              "      <td>1.432677</td>\n",
              "      <td>-0.998752</td>\n",
              "      <td>0.850931</td>\n",
              "      <td>-0.143779</td>\n",
              "      <td>-0.272591</td>\n",
              "      <td>2.0</td>\n",
              "    </tr>\n",
              "    <tr>\n",
              "      <th>4</th>\n",
              "      <td>0.534038</td>\n",
              "      <td>0.837122</td>\n",
              "      <td>-1.246899</td>\n",
              "      <td>1.690996</td>\n",
              "      <td>0.277751</td>\n",
              "      <td>-0.546063</td>\n",
              "      <td>-0.167335</td>\n",
              "      <td>0.342347</td>\n",
              "      <td>1.273103</td>\n",
              "      <td>-0.773281</td>\n",
              "      <td>...</td>\n",
              "      <td>0.844210</td>\n",
              "      <td>0.887417</td>\n",
              "      <td>1.244464</td>\n",
              "      <td>-0.310721</td>\n",
              "      <td>1.480248</td>\n",
              "      <td>-0.945146</td>\n",
              "      <td>1.388963</td>\n",
              "      <td>-0.444662</td>\n",
              "      <td>-0.395945</td>\n",
              "      <td>1.0</td>\n",
              "    </tr>\n",
              "  </tbody>\n",
              "</table>\n",
              "<p>5 rows × 101 columns</p>\n",
              "</div>\n",
              "      <button class=\"colab-df-convert\" onclick=\"convertToInteractive('df-3397bad4-26cf-4b07-aec0-b3f84ab1c311')\"\n",
              "              title=\"Convert this dataframe to an interactive table.\"\n",
              "              style=\"display:none;\">\n",
              "\n",
              "  <svg xmlns=\"http://www.w3.org/2000/svg\" height=\"24px\"viewBox=\"0 0 24 24\"\n",
              "       width=\"24px\">\n",
              "    <path d=\"M0 0h24v24H0V0z\" fill=\"none\"/>\n",
              "    <path d=\"M18.56 5.44l.94 2.06.94-2.06 2.06-.94-2.06-.94-.94-2.06-.94 2.06-2.06.94zm-11 1L8.5 8.5l.94-2.06 2.06-.94-2.06-.94L8.5 2.5l-.94 2.06-2.06.94zm10 10l.94 2.06.94-2.06 2.06-.94-2.06-.94-.94-2.06-.94 2.06-2.06.94z\"/><path d=\"M17.41 7.96l-1.37-1.37c-.4-.4-.92-.59-1.43-.59-.52 0-1.04.2-1.43.59L10.3 9.45l-7.72 7.72c-.78.78-.78 2.05 0 2.83L4 21.41c.39.39.9.59 1.41.59.51 0 1.02-.2 1.41-.59l7.78-7.78 2.81-2.81c.8-.78.8-2.07 0-2.86zM5.41 20L4 18.59l7.72-7.72 1.47 1.35L5.41 20z\"/>\n",
              "  </svg>\n",
              "      </button>\n",
              "\n",
              "\n",
              "\n",
              "    <div id=\"df-88e7bda6-4e56-4328-bbbe-7d58393c2db3\">\n",
              "      <button class=\"colab-df-quickchart\" onclick=\"quickchart('df-88e7bda6-4e56-4328-bbbe-7d58393c2db3')\"\n",
              "              title=\"Suggest charts.\"\n",
              "              style=\"display:none;\">\n",
              "\n",
              "<svg xmlns=\"http://www.w3.org/2000/svg\" height=\"24px\"viewBox=\"0 0 24 24\"\n",
              "     width=\"24px\">\n",
              "    <g>\n",
              "        <path d=\"M19 3H5c-1.1 0-2 .9-2 2v14c0 1.1.9 2 2 2h14c1.1 0 2-.9 2-2V5c0-1.1-.9-2-2-2zM9 17H7v-7h2v7zm4 0h-2V7h2v10zm4 0h-2v-4h2v4z\"/>\n",
              "    </g>\n",
              "</svg>\n",
              "      </button>\n",
              "    </div>\n",
              "\n",
              "<style>\n",
              "  .colab-df-quickchart {\n",
              "    background-color: #E8F0FE;\n",
              "    border: none;\n",
              "    border-radius: 50%;\n",
              "    cursor: pointer;\n",
              "    display: none;\n",
              "    fill: #1967D2;\n",
              "    height: 32px;\n",
              "    padding: 0 0 0 0;\n",
              "    width: 32px;\n",
              "  }\n",
              "\n",
              "  .colab-df-quickchart:hover {\n",
              "    background-color: #E2EBFA;\n",
              "    box-shadow: 0px 1px 2px rgba(60, 64, 67, 0.3), 0px 1px 3px 1px rgba(60, 64, 67, 0.15);\n",
              "    fill: #174EA6;\n",
              "  }\n",
              "\n",
              "  [theme=dark] .colab-df-quickchart {\n",
              "    background-color: #3B4455;\n",
              "    fill: #D2E3FC;\n",
              "  }\n",
              "\n",
              "  [theme=dark] .colab-df-quickchart:hover {\n",
              "    background-color: #434B5C;\n",
              "    box-shadow: 0px 1px 3px 1px rgba(0, 0, 0, 0.15);\n",
              "    filter: drop-shadow(0px 1px 2px rgba(0, 0, 0, 0.3));\n",
              "    fill: #FFFFFF;\n",
              "  }\n",
              "</style>\n",
              "\n",
              "    <script>\n",
              "      async function quickchart(key) {\n",
              "        const containerElement = document.querySelector('#' + key);\n",
              "        const charts = await google.colab.kernel.invokeFunction(\n",
              "            'suggestCharts', [key], {});\n",
              "      }\n",
              "    </script>\n",
              "\n",
              "      <script>\n",
              "\n",
              "function displayQuickchartButton(domScope) {\n",
              "  let quickchartButtonEl =\n",
              "    domScope.querySelector('#df-88e7bda6-4e56-4328-bbbe-7d58393c2db3 button.colab-df-quickchart');\n",
              "  quickchartButtonEl.style.display =\n",
              "    google.colab.kernel.accessAllowed ? 'block' : 'none';\n",
              "}\n",
              "\n",
              "        displayQuickchartButton(document);\n",
              "      </script>\n",
              "      <style>\n",
              "    .colab-df-container {\n",
              "      display:flex;\n",
              "      flex-wrap:wrap;\n",
              "      gap: 12px;\n",
              "    }\n",
              "\n",
              "    .colab-df-convert {\n",
              "      background-color: #E8F0FE;\n",
              "      border: none;\n",
              "      border-radius: 50%;\n",
              "      cursor: pointer;\n",
              "      display: none;\n",
              "      fill: #1967D2;\n",
              "      height: 32px;\n",
              "      padding: 0 0 0 0;\n",
              "      width: 32px;\n",
              "    }\n",
              "\n",
              "    .colab-df-convert:hover {\n",
              "      background-color: #E2EBFA;\n",
              "      box-shadow: 0px 1px 2px rgba(60, 64, 67, 0.3), 0px 1px 3px 1px rgba(60, 64, 67, 0.15);\n",
              "      fill: #174EA6;\n",
              "    }\n",
              "\n",
              "    [theme=dark] .colab-df-convert {\n",
              "      background-color: #3B4455;\n",
              "      fill: #D2E3FC;\n",
              "    }\n",
              "\n",
              "    [theme=dark] .colab-df-convert:hover {\n",
              "      background-color: #434B5C;\n",
              "      box-shadow: 0px 1px 3px 1px rgba(0, 0, 0, 0.15);\n",
              "      filter: drop-shadow(0px 1px 2px rgba(0, 0, 0, 0.3));\n",
              "      fill: #FFFFFF;\n",
              "    }\n",
              "  </style>\n",
              "\n",
              "      <script>\n",
              "        const buttonEl =\n",
              "          document.querySelector('#df-3397bad4-26cf-4b07-aec0-b3f84ab1c311 button.colab-df-convert');\n",
              "        buttonEl.style.display =\n",
              "          google.colab.kernel.accessAllowed ? 'block' : 'none';\n",
              "\n",
              "        async function convertToInteractive(key) {\n",
              "          const element = document.querySelector('#df-3397bad4-26cf-4b07-aec0-b3f84ab1c311');\n",
              "          const dataTable =\n",
              "            await google.colab.kernel.invokeFunction('convertToInteractive',\n",
              "                                                     [key], {});\n",
              "          if (!dataTable) return;\n",
              "\n",
              "          const docLinkHtml = 'Like what you see? Visit the ' +\n",
              "            '<a target=\"_blank\" href=https://colab.research.google.com/notebooks/data_table.ipynb>data table notebook</a>'\n",
              "            + ' to learn more about interactive tables.';\n",
              "          element.innerHTML = '';\n",
              "          dataTable['output_type'] = 'display_data';\n",
              "          await google.colab.output.renderOutput(dataTable, element);\n",
              "          const docLink = document.createElement('div');\n",
              "          docLink.innerHTML = docLinkHtml;\n",
              "          element.appendChild(docLink);\n",
              "        }\n",
              "      </script>\n",
              "    </div>\n",
              "  </div>\n"
            ]
          },
          "metadata": {}
        }
      ]
    },
    {
      "cell_type": "code",
      "source": [
        "import matplotlib.pyplot as plt\n",
        "\n",
        "from sklearn.decomposition import PCA\n",
        "\n",
        "#sampling the model_df population\n",
        "pca_df = model_df.reset_index()\n",
        "pca_df = model_df.dropna(axis=0).iloc[:,1:]\n",
        "pca_df = pca_df.iloc[::50]\n",
        "\n",
        "#setting up PCA\n",
        "pca = PCA(n_components=2, random_state=42)\n",
        "pca = pca.fit_transform(pca_df.iloc[:, :-1])\n",
        "labels = pca_df[\"label\"]\n",
        "\n",
        "#setting up plot components\n",
        "#x_axis = pca[:,0]\n",
        "#y_axis = pca[:,1]\n",
        "color_map = ['blue', 'red', 'yellow', 'green', 'orange']\n",
        "\n",
        "#color_map = pca_df[\"label\"].map({1:\"blue\", \\\n",
        "#                                 2:\"red\", \\\n",
        "#                                 3:\"yellow\", \\\n",
        "#                                 4:\"green\", \\\n",
        "#                                 5:\"orange\"})\n",
        "\n",
        "#plotting PCA\n",
        "f, axes = plt.subplots(figsize=(20,10))\n",
        "plt.scatter(x_axis, y_axis, color=color_map, s=1)\n",
        "plt.show()\n"
      ],
      "metadata": {
        "colab": {
          "base_uri": "https://localhost:8080/",
          "height": 852
        },
        "id": "tbOTOIzsC31x",
        "outputId": "26ff42e6-2a99-4e24-ed3a-f1384d4dd0d9"
      },
      "id": "tbOTOIzsC31x",
      "execution_count": 81,
      "outputs": [
        {
          "output_type": "error",
          "ename": "ValueError",
          "evalue": "ignored",
          "traceback": [
            "\u001b[0;31m---------------------------------------------------------------------------\u001b[0m",
            "\u001b[0;31mValueError\u001b[0m                                Traceback (most recent call last)",
            "\u001b[0;32m<ipython-input-81-114bc7490873>\u001b[0m in \u001b[0;36m<cell line: 28>\u001b[0;34m()\u001b[0m\n\u001b[1;32m     26\u001b[0m \u001b[0;31m#plotting PCA\u001b[0m\u001b[0;34m\u001b[0m\u001b[0;34m\u001b[0m\u001b[0m\n\u001b[1;32m     27\u001b[0m \u001b[0mf\u001b[0m\u001b[0;34m,\u001b[0m \u001b[0maxes\u001b[0m \u001b[0;34m=\u001b[0m \u001b[0mplt\u001b[0m\u001b[0;34m.\u001b[0m\u001b[0msubplots\u001b[0m\u001b[0;34m(\u001b[0m\u001b[0mfigsize\u001b[0m\u001b[0;34m=\u001b[0m\u001b[0;34m(\u001b[0m\u001b[0;36m20\u001b[0m\u001b[0;34m,\u001b[0m\u001b[0;36m10\u001b[0m\u001b[0;34m)\u001b[0m\u001b[0;34m)\u001b[0m\u001b[0;34m\u001b[0m\u001b[0;34m\u001b[0m\u001b[0m\n\u001b[0;32m---> 28\u001b[0;31m \u001b[0mplt\u001b[0m\u001b[0;34m.\u001b[0m\u001b[0mscatter\u001b[0m\u001b[0;34m(\u001b[0m\u001b[0mx_axis\u001b[0m\u001b[0;34m,\u001b[0m \u001b[0my_axis\u001b[0m\u001b[0;34m,\u001b[0m \u001b[0mcolor\u001b[0m\u001b[0;34m=\u001b[0m\u001b[0mcolor_map\u001b[0m\u001b[0;34m,\u001b[0m \u001b[0ms\u001b[0m\u001b[0;34m=\u001b[0m\u001b[0;36m1\u001b[0m\u001b[0;34m)\u001b[0m\u001b[0;34m\u001b[0m\u001b[0;34m\u001b[0m\u001b[0m\n\u001b[0m\u001b[1;32m     29\u001b[0m \u001b[0mplt\u001b[0m\u001b[0;34m.\u001b[0m\u001b[0mshow\u001b[0m\u001b[0;34m(\u001b[0m\u001b[0;34m)\u001b[0m\u001b[0;34m\u001b[0m\u001b[0;34m\u001b[0m\u001b[0m\n",
            "\u001b[0;32m/usr/local/lib/python3.10/dist-packages/matplotlib/pyplot.py\u001b[0m in \u001b[0;36mscatter\u001b[0;34m(x, y, s, c, marker, cmap, norm, vmin, vmax, alpha, linewidths, edgecolors, plotnonfinite, data, **kwargs)\u001b[0m\n\u001b[1;32m   2860\u001b[0m         \u001b[0mvmin\u001b[0m\u001b[0;34m=\u001b[0m\u001b[0;32mNone\u001b[0m\u001b[0;34m,\u001b[0m \u001b[0mvmax\u001b[0m\u001b[0;34m=\u001b[0m\u001b[0;32mNone\u001b[0m\u001b[0;34m,\u001b[0m \u001b[0malpha\u001b[0m\u001b[0;34m=\u001b[0m\u001b[0;32mNone\u001b[0m\u001b[0;34m,\u001b[0m \u001b[0mlinewidths\u001b[0m\u001b[0;34m=\u001b[0m\u001b[0;32mNone\u001b[0m\u001b[0;34m,\u001b[0m \u001b[0;34m*\u001b[0m\u001b[0;34m,\u001b[0m\u001b[0;34m\u001b[0m\u001b[0;34m\u001b[0m\u001b[0m\n\u001b[1;32m   2861\u001b[0m         edgecolors=None, plotnonfinite=False, data=None, **kwargs):\n\u001b[0;32m-> 2862\u001b[0;31m     __ret = gca().scatter(\n\u001b[0m\u001b[1;32m   2863\u001b[0m         \u001b[0mx\u001b[0m\u001b[0;34m,\u001b[0m \u001b[0my\u001b[0m\u001b[0;34m,\u001b[0m \u001b[0ms\u001b[0m\u001b[0;34m=\u001b[0m\u001b[0ms\u001b[0m\u001b[0;34m,\u001b[0m \u001b[0mc\u001b[0m\u001b[0;34m=\u001b[0m\u001b[0mc\u001b[0m\u001b[0;34m,\u001b[0m \u001b[0mmarker\u001b[0m\u001b[0;34m=\u001b[0m\u001b[0mmarker\u001b[0m\u001b[0;34m,\u001b[0m \u001b[0mcmap\u001b[0m\u001b[0;34m=\u001b[0m\u001b[0mcmap\u001b[0m\u001b[0;34m,\u001b[0m \u001b[0mnorm\u001b[0m\u001b[0;34m=\u001b[0m\u001b[0mnorm\u001b[0m\u001b[0;34m,\u001b[0m\u001b[0;34m\u001b[0m\u001b[0;34m\u001b[0m\u001b[0m\n\u001b[1;32m   2864\u001b[0m         \u001b[0mvmin\u001b[0m\u001b[0;34m=\u001b[0m\u001b[0mvmin\u001b[0m\u001b[0;34m,\u001b[0m \u001b[0mvmax\u001b[0m\u001b[0;34m=\u001b[0m\u001b[0mvmax\u001b[0m\u001b[0;34m,\u001b[0m \u001b[0malpha\u001b[0m\u001b[0;34m=\u001b[0m\u001b[0malpha\u001b[0m\u001b[0;34m,\u001b[0m \u001b[0mlinewidths\u001b[0m\u001b[0;34m=\u001b[0m\u001b[0mlinewidths\u001b[0m\u001b[0;34m,\u001b[0m\u001b[0;34m\u001b[0m\u001b[0;34m\u001b[0m\u001b[0m\n",
            "\u001b[0;32m/usr/local/lib/python3.10/dist-packages/matplotlib/__init__.py\u001b[0m in \u001b[0;36minner\u001b[0;34m(ax, data, *args, **kwargs)\u001b[0m\n\u001b[1;32m   1440\u001b[0m     \u001b[0;32mdef\u001b[0m \u001b[0minner\u001b[0m\u001b[0;34m(\u001b[0m\u001b[0max\u001b[0m\u001b[0;34m,\u001b[0m \u001b[0;34m*\u001b[0m\u001b[0margs\u001b[0m\u001b[0;34m,\u001b[0m \u001b[0mdata\u001b[0m\u001b[0;34m=\u001b[0m\u001b[0;32mNone\u001b[0m\u001b[0;34m,\u001b[0m \u001b[0;34m**\u001b[0m\u001b[0mkwargs\u001b[0m\u001b[0;34m)\u001b[0m\u001b[0;34m:\u001b[0m\u001b[0;34m\u001b[0m\u001b[0;34m\u001b[0m\u001b[0m\n\u001b[1;32m   1441\u001b[0m         \u001b[0;32mif\u001b[0m \u001b[0mdata\u001b[0m \u001b[0;32mis\u001b[0m \u001b[0;32mNone\u001b[0m\u001b[0;34m:\u001b[0m\u001b[0;34m\u001b[0m\u001b[0;34m\u001b[0m\u001b[0m\n\u001b[0;32m-> 1442\u001b[0;31m             \u001b[0;32mreturn\u001b[0m \u001b[0mfunc\u001b[0m\u001b[0;34m(\u001b[0m\u001b[0max\u001b[0m\u001b[0;34m,\u001b[0m \u001b[0;34m*\u001b[0m\u001b[0mmap\u001b[0m\u001b[0;34m(\u001b[0m\u001b[0msanitize_sequence\u001b[0m\u001b[0;34m,\u001b[0m \u001b[0margs\u001b[0m\u001b[0;34m)\u001b[0m\u001b[0;34m,\u001b[0m \u001b[0;34m**\u001b[0m\u001b[0mkwargs\u001b[0m\u001b[0;34m)\u001b[0m\u001b[0;34m\u001b[0m\u001b[0;34m\u001b[0m\u001b[0m\n\u001b[0m\u001b[1;32m   1443\u001b[0m \u001b[0;34m\u001b[0m\u001b[0m\n\u001b[1;32m   1444\u001b[0m         \u001b[0mbound\u001b[0m \u001b[0;34m=\u001b[0m \u001b[0mnew_sig\u001b[0m\u001b[0;34m.\u001b[0m\u001b[0mbind\u001b[0m\u001b[0;34m(\u001b[0m\u001b[0max\u001b[0m\u001b[0;34m,\u001b[0m \u001b[0;34m*\u001b[0m\u001b[0margs\u001b[0m\u001b[0;34m,\u001b[0m \u001b[0;34m**\u001b[0m\u001b[0mkwargs\u001b[0m\u001b[0;34m)\u001b[0m\u001b[0;34m\u001b[0m\u001b[0;34m\u001b[0m\u001b[0m\n",
            "\u001b[0;32m/usr/local/lib/python3.10/dist-packages/matplotlib/axes/_axes.py\u001b[0m in \u001b[0;36mscatter\u001b[0;34m(self, x, y, s, c, marker, cmap, norm, vmin, vmax, alpha, linewidths, edgecolors, plotnonfinite, **kwargs)\u001b[0m\n\u001b[1;32m   4600\u001b[0m             \u001b[0morig_edgecolor\u001b[0m \u001b[0;34m=\u001b[0m \u001b[0mkwargs\u001b[0m\u001b[0;34m.\u001b[0m\u001b[0mget\u001b[0m\u001b[0;34m(\u001b[0m\u001b[0;34m'edgecolor'\u001b[0m\u001b[0;34m,\u001b[0m \u001b[0;32mNone\u001b[0m\u001b[0;34m)\u001b[0m\u001b[0;34m\u001b[0m\u001b[0;34m\u001b[0m\u001b[0m\n\u001b[1;32m   4601\u001b[0m         \u001b[0mc\u001b[0m\u001b[0;34m,\u001b[0m \u001b[0mcolors\u001b[0m\u001b[0;34m,\u001b[0m \u001b[0medgecolors\u001b[0m \u001b[0;34m=\u001b[0m\u001b[0;31m \u001b[0m\u001b[0;31m\\\u001b[0m\u001b[0;34m\u001b[0m\u001b[0;34m\u001b[0m\u001b[0m\n\u001b[0;32m-> 4602\u001b[0;31m             self._parse_scatter_color_args(\n\u001b[0m\u001b[1;32m   4603\u001b[0m                 \u001b[0mc\u001b[0m\u001b[0;34m,\u001b[0m \u001b[0medgecolors\u001b[0m\u001b[0;34m,\u001b[0m \u001b[0mkwargs\u001b[0m\u001b[0;34m,\u001b[0m \u001b[0mx\u001b[0m\u001b[0;34m.\u001b[0m\u001b[0msize\u001b[0m\u001b[0;34m,\u001b[0m\u001b[0;34m\u001b[0m\u001b[0;34m\u001b[0m\u001b[0m\n\u001b[1;32m   4604\u001b[0m                 get_next_color_func=self._get_patches_for_fill.get_next_color)\n",
            "\u001b[0;32m/usr/local/lib/python3.10/dist-packages/matplotlib/axes/_axes.py\u001b[0m in \u001b[0;36m_parse_scatter_color_args\u001b[0;34m(c, edgecolors, kwargs, xsize, get_next_color_func)\u001b[0m\n\u001b[1;32m   4453\u001b[0m                     \u001b[0;31m# NB: remember that a single color is also acceptable.\u001b[0m\u001b[0;34m\u001b[0m\u001b[0;34m\u001b[0m\u001b[0m\n\u001b[1;32m   4454\u001b[0m                     \u001b[0;31m# Besides *colors* will be an empty array if c == 'none'.\u001b[0m\u001b[0;34m\u001b[0m\u001b[0;34m\u001b[0m\u001b[0m\n\u001b[0;32m-> 4455\u001b[0;31m                     \u001b[0;32mraise\u001b[0m \u001b[0minvalid_shape_exception\u001b[0m\u001b[0;34m(\u001b[0m\u001b[0mlen\u001b[0m\u001b[0;34m(\u001b[0m\u001b[0mcolors\u001b[0m\u001b[0;34m)\u001b[0m\u001b[0;34m,\u001b[0m \u001b[0mxsize\u001b[0m\u001b[0;34m)\u001b[0m\u001b[0;34m\u001b[0m\u001b[0;34m\u001b[0m\u001b[0m\n\u001b[0m\u001b[1;32m   4456\u001b[0m         \u001b[0;32melse\u001b[0m\u001b[0;34m:\u001b[0m\u001b[0;34m\u001b[0m\u001b[0;34m\u001b[0m\u001b[0m\n\u001b[1;32m   4457\u001b[0m             \u001b[0mcolors\u001b[0m \u001b[0;34m=\u001b[0m \u001b[0;32mNone\u001b[0m  \u001b[0;31m# use cmap, norm after collection is created\u001b[0m\u001b[0;34m\u001b[0m\u001b[0;34m\u001b[0m\u001b[0m\n",
            "\u001b[0;31mValueError\u001b[0m: 'c' argument has 5 elements, which is inconsistent with 'x' and 'y' with size 33240."
          ]
        },
        {
          "output_type": "display_data",
          "data": {
            "text/plain": [
              "<Figure size 2000x1000 with 1 Axes>"
            ],
            "image/png": "[encoded data removed]"
          },
          "metadata": {}
        }
      ]
    },
    {
      "cell_type": "code",
      "source": [],
      "metadata": {
        "id": "Y_S5btGhC347"
      },
      "id": "Y_S5btGhC347",
      "execution_count": 85,
      "outputs": []
    },
    {
      "cell_type": "code",
      "source": [],
      "metadata": {
        "id": "SjjUldKmJg3_"
      },
      "id": "SjjUldKmJg3_",
      "execution_count": null,
      "outputs": []
    }
  ],
  "metadata": {
    "kernelspec": {
      "display_name": "Python 3",
      "name": "python3"
    },
    "language_info": {
      "codemirror_mode": {
        "name": "ipython",
        "version": 3
      },
      "file_extension": ".py",
      "mimetype": "text/x-python",
      "name": "python",
      "nbconvert_exporter": "python",
      "pygments_lexer": "ipython3",
      "version": "3.9.12"
    },
    "colab": {
      "provenance": [],
      "machine_shape": "hm",
      "gpuType": "T4",
      "include_colab_link": true
    },
    "accelerator": "GPU"
  },
  "nbformat": 4,
  "nbformat_minor": 5
}